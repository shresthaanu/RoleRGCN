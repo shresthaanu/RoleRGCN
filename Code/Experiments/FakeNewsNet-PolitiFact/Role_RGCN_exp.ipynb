{
  "nbformat": 4,
  "nbformat_minor": 0,
  "metadata": {
    "colab": {
      "name": "4 fold GNN_users_with_feat_and_516_shared_news_classification_3_losses_recompute_user_label.ipynb",
      "provenance": [],
      "collapsed_sections": []
    },
    "kernelspec": {
      "name": "python3",
      "display_name": "Python 3"
    },
    "language_info": {
      "name": "python"
    }
  },
  "cells": [
    {
      "cell_type": "code",
      "source": [
        "from IPython.display import HTML, display\n",
        "\n",
        "def set_css():\n",
        "  display(HTML('''\n",
        "  <style>\n",
        "    pre {\n",
        "      white-space: pre-wrap;\n",
        "    }\n",
        "  </style>\n",
        "  '''))\n",
        "get_ipython().events.register('pre_run_cell', set_css)"
      ],
      "metadata": {
        "id": "5oMopPdr6Zz0"
      },
      "execution_count": null,
      "outputs": []
    },
    {
      "cell_type": "code",
      "execution_count": null,
      "metadata": {
        "colab": {
          "base_uri": "https://localhost:8080/",
          "height": 243
        },
        "id": "w00ehCtlUlSr",
        "outputId": "cbdf7638-75c9-44e1-9cfb-2d912329a8f2"
      },
      "outputs": [
        {
          "output_type": "display_data",
          "data": {
            "text/plain": [
              "<IPython.core.display.HTML object>"
            ],
            "text/html": [
              "\n",
              "  <style>\n",
              "    pre {\n",
              "      white-space: pre-wrap;\n",
              "    }\n",
              "  </style>\n",
              "  "
            ]
          },
          "metadata": {}
        },
        {
          "output_type": "stream",
          "name": "stdout",
          "text": [
            "Requirement already satisfied: dgl in /usr/local/lib/python3.7/dist-packages (0.6.1)\n",
            "Requirement already satisfied: networkx>=2.1 in /usr/local/lib/python3.7/dist-packages (from dgl) (2.6.3)\n",
            "Requirement already satisfied: numpy>=1.14.0 in /usr/local/lib/python3.7/dist-packages (from dgl) (1.21.5)\n",
            "Requirement already satisfied: requests>=2.19.0 in /usr/local/lib/python3.7/dist-packages (from dgl) (2.23.0)\n",
            "Requirement already satisfied: scipy>=1.1.0 in /usr/local/lib/python3.7/dist-packages (from dgl) (1.4.1)\n",
            "Requirement already satisfied: idna<3,>=2.5 in /usr/local/lib/python3.7/dist-packages (from requests>=2.19.0->dgl) (2.10)\n",
            "Requirement already satisfied: chardet<4,>=3.0.2 in /usr/local/lib/python3.7/dist-packages (from requests>=2.19.0->dgl) (3.0.4)\n",
            "Requirement already satisfied: urllib3!=1.25.0,!=1.25.1,<1.26,>=1.21.1 in /usr/local/lib/python3.7/dist-packages (from requests>=2.19.0->dgl) (1.24.3)\n",
            "Requirement already satisfied: certifi>=2017.4.17 in /usr/local/lib/python3.7/dist-packages (from requests>=2.19.0->dgl) (2021.10.8)\n"
          ]
        },
        {
          "output_type": "stream",
          "name": "stderr",
          "text": [
            "Using backend: pytorch\n"
          ]
        },
        {
          "output_type": "stream",
          "name": "stdout",
          "text": [
            "Cuda Enabled: False\n",
            "cpu\n",
            "Drive already mounted at /content/gdrive; to attempt to forcibly remount, call drive.mount(\"/content/gdrive\", force_remount=True).\n"
          ]
        }
      ],
      "source": [
        "import pandas as pd\n",
        "import numpy as np\n",
        "import os\n",
        "import networkx as nx\n",
        "from tqdm import tqdm \n",
        "from collections import Counter, defaultdict\n",
        "import matplotlib.pyplot as plt\n",
        "import random\n",
        "from sklearn.metrics import roc_auc_score,f1_score,recall_score, mean_absolute_error, mean_squared_error, r2_score\n",
        "from scipy import stats\n",
        "import warnings\n",
        "warnings.filterwarnings(\"ignore\")\n",
        "from sklearn.preprocessing import StandardScaler\n",
        "from sklearn.ensemble import RandomForestRegressor, RandomForestClassifier\n",
        "from sklearn.metrics import *\n",
        "\n",
        "!pip install dgl\n",
        "import dgl\n",
        "# from dgl.data import DGLDataset\n",
        "from dgl.nn import GraphConv,GATConv,SAGEConv,HeteroGraphConv\n",
        "\n",
        "\n",
        "import torch\n",
        "import torch.nn as nn\n",
        "import torch.nn.functional as F\n",
        "import dgl.function as fn\n",
        "\n",
        "print('Cuda Enabled:', torch.cuda.is_available())\n",
        "device = torch.device(\"cuda\" if torch.cuda.is_available() and False else \"cpu\")\n",
        "print(device)\n",
        "\n",
        "from google.colab import drive\n",
        "drive.mount('/content/gdrive')"
      ]
    },
    {
      "cell_type": "markdown",
      "metadata": {
        "id": "k5jX0EKnQjcN"
      },
      "source": [
        "## Import external python file"
      ]
    },
    {
      "cell_type": "code",
      "metadata": {
        "id": "w2D7fA34ANPh",
        "colab": {
          "base_uri": "https://localhost:8080/",
          "height": 17
        },
        "outputId": "d5e024d2-d1b7-4dc9-8bda-54809609b338"
      },
      "source": [
        "import sys\n",
        "sys.path.append('/content/gdrive/My Drive/Loopy_belief_propagation/Graph_neural_network/code')\n",
        "\n",
        "import features\n",
        "import models"
      ],
      "execution_count": null,
      "outputs": [
        {
          "output_type": "display_data",
          "data": {
            "text/plain": [
              "<IPython.core.display.HTML object>"
            ],
            "text/html": [
              "\n",
              "  <style>\n",
              "    pre {\n",
              "      white-space: pre-wrap;\n",
              "    }\n",
              "  </style>\n",
              "  "
            ]
          },
          "metadata": {}
        }
      ]
    },
    {
      "cell_type": "code",
      "execution_count": null,
      "metadata": {
        "id": "83tiwTXrUuCX",
        "colab": {
          "base_uri": "https://localhost:8080/",
          "height": 17
        },
        "outputId": "71a0224d-5053-435c-bec9-3b5b2e58baef"
      },
      "outputs": [
        {
          "output_type": "display_data",
          "data": {
            "text/plain": [
              "<IPython.core.display.HTML object>"
            ],
            "text/html": [
              "\n",
              "  <style>\n",
              "    pre {\n",
              "      white-space: pre-wrap;\n",
              "    }\n",
              "  </style>\n",
              "  "
            ]
          },
          "metadata": {}
        }
      ],
      "source": [
        "data_path = \"/content/gdrive/My Drive/Loopy_belief_propagation/Graph_neural_network/Data/\"\n",
        "df_user = pd.read_csv(data_path+\"politifact_shu_user_data_formated.csv\")\n",
        "df_news = pd.read_csv(data_path+\"all_features_for_title_and_text_shu_936_news.csv\")\n",
        "df_source = pd.read_csv(data_path+\"politifact_shu_source_data_formated.csv\")\n",
        "df_followers_sample = pd.read_csv(data_path+\"politifact_shu_follower_data_formated_with_features_only.csv\")\n",
        "df_all_user_news_pair = pd.read_csv(data_path+\"politifact_shu_user_news_pair_data_formated.csv\")\n",
        "df_all_source_news_pair = pd.read_csv(data_path+\"politifact_shu_source_news_pair_data_formated.csv\")\n",
        "df_506_news = pd.read_csv(\"/content/gdrive/My Drive/Loopy_belief_propagation/Graph_neural_network/code/\\\n",
        "code_for_516_news/code_for_news_with_atleast_3_tweets_recompute_user_label/506_news_with_atleast_3_tweets.csv\")"
      ]
    },
    {
      "cell_type": "code",
      "source": [
        "#change news label to numeric\n",
        "df_news.drop_duplicates(subset=['news_id'], inplace=True)\n",
        "df_news.rename(columns={'label':'news_label'}, inplace=True)\n",
        "df_news.news_label = df_news.news_label.apply(lambda x: 1 if x in [\"fake\",\"Fake\",'1',1,'false',\n",
        "                                                   'half-true', 'pants-fire', \n",
        "                                                   'barely-true','full-flop'] else 0)"
      ],
      "metadata": {
        "colab": {
          "base_uri": "https://localhost:8080/",
          "height": 17
        },
        "id": "g9Jyyar5C-jb",
        "outputId": "6f316d82-0a42-48e4-99fa-50d9271e44cc"
      },
      "execution_count": null,
      "outputs": [
        {
          "output_type": "display_data",
          "data": {
            "text/plain": [
              "<IPython.core.display.HTML object>"
            ],
            "text/html": [
              "\n",
              "  <style>\n",
              "    pre {\n",
              "      white-space: pre-wrap;\n",
              "    }\n",
              "  </style>\n",
              "  "
            ]
          },
          "metadata": {}
        }
      ]
    },
    {
      "cell_type": "code",
      "source": [
        "#select news with atleast 3 tweets\n",
        "df_news = df_news[df_news.news_id.isin(df_506_news.news_id)]"
      ],
      "metadata": {
        "colab": {
          "base_uri": "https://localhost:8080/",
          "height": 17
        },
        "id": "eBiHcrcjG8gk",
        "outputId": "3aa427a6-f47f-4f3b-ef9b-501c22818929"
      },
      "execution_count": null,
      "outputs": [
        {
          "output_type": "display_data",
          "data": {
            "text/plain": [
              "<IPython.core.display.HTML object>"
            ],
            "text/html": [
              "\n",
              "  <style>\n",
              "    pre {\n",
              "      white-space: pre-wrap;\n",
              "    }\n",
              "  </style>\n",
              "  "
            ]
          },
          "metadata": {}
        }
      ]
    },
    {
      "cell_type": "code",
      "source": [
        "df_source.factual_score = (df_source.factual_score/0.16)-1"
      ],
      "metadata": {
        "colab": {
          "base_uri": "https://localhost:8080/",
          "height": 17
        },
        "id": "NLwA9EXEGfz_",
        "outputId": "be48beea-c080-4e12-e66e-54e92f17f1d0"
      },
      "execution_count": null,
      "outputs": [
        {
          "output_type": "display_data",
          "data": {
            "text/plain": [
              "<IPython.core.display.HTML object>"
            ],
            "text/html": [
              "\n",
              "  <style>\n",
              "    pre {\n",
              "      white-space: pre-wrap;\n",
              "    }\n",
              "  </style>\n",
              "  "
            ]
          },
          "metadata": {}
        }
      ]
    },
    {
      "cell_type": "code",
      "execution_count": null,
      "metadata": {
        "id": "Itrpx1ohVKoQ",
        "colab": {
          "base_uri": "https://localhost:8080/",
          "height": 34
        },
        "outputId": "d73f3ce4-f76c-4a0f-cacc-3c4cc6db0b0d"
      },
      "outputs": [
        {
          "output_type": "display_data",
          "data": {
            "text/plain": [
              "<IPython.core.display.HTML object>"
            ],
            "text/html": [
              "\n",
              "  <style>\n",
              "    pre {\n",
              "      white-space: pre-wrap;\n",
              "    }\n",
              "  </style>\n",
              "  "
            ]
          },
          "metadata": {}
        },
        {
          "output_type": "execute_result",
          "data": {
            "text/plain": [
              "((1135, 246), (506, 140), (88, 5))"
            ]
          },
          "metadata": {},
          "execution_count": 8
        }
      ],
      "source": [
        "df_user.shape, df_news.shape, df_source.shape"
      ]
    },
    {
      "cell_type": "markdown",
      "source": [
        "# select only those news shared by users with features"
      ],
      "metadata": {
        "id": "70qsYuCvem4c"
      }
    },
    {
      "cell_type": "code",
      "source": [
        "df_all_user_news_pair = df_all_user_news_pair.astype(str)\n",
        "df_user.user_id = df_user.user_id.astype(str)\n",
        "df_user_news_pair = df_all_user_news_pair[df_all_user_news_pair.user_id.isin(df_user.user_id)]\n"
      ],
      "metadata": {
        "id": "GfGRxljtemgi",
        "colab": {
          "base_uri": "https://localhost:8080/",
          "height": 17
        },
        "outputId": "c39600fd-e2a1-47b5-bdac-e1d6f0d1c631"
      },
      "execution_count": null,
      "outputs": [
        {
          "output_type": "display_data",
          "data": {
            "text/plain": [
              "<IPython.core.display.HTML object>"
            ],
            "text/html": [
              "\n",
              "  <style>\n",
              "    pre {\n",
              "      white-space: pre-wrap;\n",
              "    }\n",
              "  </style>\n",
              "  "
            ]
          },
          "metadata": {}
        }
      ]
    },
    {
      "cell_type": "code",
      "source": [
        "df_user_news_pair.shape, df_user_news_pair.user_id.nunique(), df_user_news_pair.news_id.nunique()"
      ],
      "metadata": {
        "colab": {
          "base_uri": "https://localhost:8080/",
          "height": 34
        },
        "id": "qSZuSllZfGad",
        "outputId": "a188bd82-0c7e-4d0a-f7ad-5085ac3de9b5"
      },
      "execution_count": null,
      "outputs": [
        {
          "output_type": "display_data",
          "data": {
            "text/plain": [
              "<IPython.core.display.HTML object>"
            ],
            "text/html": [
              "\n",
              "  <style>\n",
              "    pre {\n",
              "      white-space: pre-wrap;\n",
              "    }\n",
              "  </style>\n",
              "  "
            ]
          },
          "metadata": {}
        },
        {
          "output_type": "execute_result",
          "data": {
            "text/plain": [
              "((15511, 3), 1135, 544)"
            ]
          },
          "metadata": {},
          "execution_count": 10
        }
      ]
    },
    {
      "cell_type": "code",
      "source": [
        "df_news = df_news[df_news.news_id.isin(df_user_news_pair.news_id)]\n",
        "df_news.shape, df_news.news_id.nunique()"
      ],
      "metadata": {
        "colab": {
          "base_uri": "https://localhost:8080/",
          "height": 34
        },
        "id": "3AnvwXCdfXvj",
        "outputId": "62e24074-a60b-47b9-a3f7-a7e5a3c18b70"
      },
      "execution_count": null,
      "outputs": [
        {
          "output_type": "display_data",
          "data": {
            "text/plain": [
              "<IPython.core.display.HTML object>"
            ],
            "text/html": [
              "\n",
              "  <style>\n",
              "    pre {\n",
              "      white-space: pre-wrap;\n",
              "    }\n",
              "  </style>\n",
              "  "
            ]
          },
          "metadata": {}
        },
        {
          "output_type": "execute_result",
          "data": {
            "text/plain": [
              "((506, 140), 506)"
            ]
          },
          "metadata": {},
          "execution_count": 11
        }
      ]
    },
    {
      "cell_type": "markdown",
      "source": [
        "select only those pairs where news are shared by user and have features"
      ],
      "metadata": {
        "id": "2SBrzU-n3SrI"
      }
    },
    {
      "cell_type": "code",
      "source": [
        "df_user_news_pair = df_user_news_pair[df_user_news_pair.news_id.isin(df_news.news_id)]"
      ],
      "metadata": {
        "colab": {
          "base_uri": "https://localhost:8080/",
          "height": 17
        },
        "id": "SZZHIifB236J",
        "outputId": "d3366b40-5a69-4939-80b7-ef7e3ed8eead"
      },
      "execution_count": null,
      "outputs": [
        {
          "output_type": "display_data",
          "data": {
            "text/plain": [
              "<IPython.core.display.HTML object>"
            ],
            "text/html": [
              "\n",
              "  <style>\n",
              "    pre {\n",
              "      white-space: pre-wrap;\n",
              "    }\n",
              "  </style>\n",
              "  "
            ]
          },
          "metadata": {}
        }
      ]
    },
    {
      "cell_type": "code",
      "source": [
        "df_user_news_pair.shape, df_user_news_pair.user_id.nunique(), df_user_news_pair.news_id.nunique()"
      ],
      "metadata": {
        "colab": {
          "base_uri": "https://localhost:8080/",
          "height": 34
        },
        "id": "CUVO5ZZ729sT",
        "outputId": "022fdde1-df38-4e60-c7e4-2894f9c6e44a"
      },
      "execution_count": null,
      "outputs": [
        {
          "output_type": "display_data",
          "data": {
            "text/plain": [
              "<IPython.core.display.HTML object>"
            ],
            "text/html": [
              "\n",
              "  <style>\n",
              "    pre {\n",
              "      white-space: pre-wrap;\n",
              "    }\n",
              "  </style>\n",
              "  "
            ]
          },
          "metadata": {}
        },
        {
          "output_type": "execute_result",
          "data": {
            "text/plain": [
              "((14309, 3), 1135, 506)"
            ]
          },
          "metadata": {},
          "execution_count": 13
        }
      ]
    },
    {
      "cell_type": "code",
      "source": [
        "df_source_news_pair = df_all_source_news_pair[df_all_source_news_pair.news_id.isin(df_news.news_id)]\n",
        "df_source_news_pair.shape, df_source_news_pair.news_id.nunique()"
      ],
      "metadata": {
        "colab": {
          "base_uri": "https://localhost:8080/",
          "height": 34
        },
        "id": "LPmIgwWqcQSr",
        "outputId": "366d85e7-a374-4960-e0d7-669bf0ea4215"
      },
      "execution_count": null,
      "outputs": [
        {
          "output_type": "display_data",
          "data": {
            "text/plain": [
              "<IPython.core.display.HTML object>"
            ],
            "text/html": [
              "\n",
              "  <style>\n",
              "    pre {\n",
              "      white-space: pre-wrap;\n",
              "    }\n",
              "  </style>\n",
              "  "
            ]
          },
          "metadata": {}
        },
        {
          "output_type": "execute_result",
          "data": {
            "text/plain": [
              "((560, 2), 506)"
            ]
          },
          "metadata": {},
          "execution_count": 14
        }
      ]
    },
    {
      "cell_type": "markdown",
      "source": [
        "# Add source bias and news"
      ],
      "metadata": {
        "id": "vkS-KI5pAGvU"
      }
    },
    {
      "cell_type": "code",
      "source": [
        "df_news_source_added = df_news.merge(df_source_news_pair, on='news_id', how='left')\n",
        "df_news_source_added = df_news_source_added.merge(df_source[['source_id','bias']], on='source_id', how='left')\n",
        "df_news_source_added.shape"
      ],
      "metadata": {
        "colab": {
          "base_uri": "https://localhost:8080/",
          "height": 34
        },
        "id": "oskH73kD-cgF",
        "outputId": "ad01159e-5d93-42a9-d78f-616ae7d330de"
      },
      "execution_count": null,
      "outputs": [
        {
          "output_type": "display_data",
          "data": {
            "text/plain": [
              "<IPython.core.display.HTML object>"
            ],
            "text/html": [
              "\n",
              "  <style>\n",
              "    pre {\n",
              "      white-space: pre-wrap;\n",
              "    }\n",
              "  </style>\n",
              "  "
            ]
          },
          "metadata": {}
        },
        {
          "output_type": "execute_result",
          "data": {
            "text/plain": [
              "(560, 142)"
            ]
          },
          "metadata": {},
          "execution_count": 15
        }
      ]
    },
    {
      "cell_type": "code",
      "source": [
        "df_news_source_added.columns"
      ],
      "metadata": {
        "colab": {
          "base_uri": "https://localhost:8080/",
          "height": 121
        },
        "id": "gbYlvKT7_FzW",
        "outputId": "f8892eb9-5862-41a1-c67c-5a7ab1e9d0e8"
      },
      "execution_count": null,
      "outputs": [
        {
          "output_type": "display_data",
          "data": {
            "text/plain": [
              "<IPython.core.display.HTML object>"
            ],
            "text/html": [
              "\n",
              "  <style>\n",
              "    pre {\n",
              "      white-space: pre-wrap;\n",
              "    }\n",
              "  </style>\n",
              "  "
            ]
          },
          "metadata": {}
        },
        {
          "output_type": "execute_result",
          "data": {
            "text/plain": [
              "Index(['news_id', 'news_label', 'WC', 'Analytic', 'Clout', 'Authentic', 'Tone',\n",
              "       'WPS', 'Sixltr', 'Dic',\n",
              "       ...\n",
              "       'Sadness', 'Surprise', 'Trust', 'Objective', 'compound', 'neg', 'neu',\n",
              "       'pos', 'source_id', 'bias'],\n",
              "      dtype='object', length=142)"
            ]
          },
          "metadata": {},
          "execution_count": 16
        }
      ]
    },
    {
      "cell_type": "code",
      "source": [
        "df_news_source_added[df_news_source_added.duplicated(subset=['news_id','bias'])]\n",
        "df_news_source_added.drop_duplicates(subset=['news_id','source_id'], inplace=True)"
      ],
      "metadata": {
        "id": "YUczwLTX_dNx",
        "colab": {
          "base_uri": "https://localhost:8080/",
          "height": 17
        },
        "outputId": "750e0e03-735d-4f6f-980d-1a8fc81c93e9"
      },
      "execution_count": null,
      "outputs": [
        {
          "output_type": "display_data",
          "data": {
            "text/plain": [
              "<IPython.core.display.HTML object>"
            ],
            "text/html": [
              "\n",
              "  <style>\n",
              "    pre {\n",
              "      white-space: pre-wrap;\n",
              "    }\n",
              "  </style>\n",
              "  "
            ]
          },
          "metadata": {}
        }
      ]
    },
    {
      "cell_type": "code",
      "source": [
        "df_news_source_added.shape, df_news_source_added.news_id.nunique(), df_news_source_added.source_id.nunique()"
      ],
      "metadata": {
        "colab": {
          "base_uri": "https://localhost:8080/",
          "height": 34
        },
        "id": "H32rkS-z__iQ",
        "outputId": "b7a2bb80-c88a-4603-df6c-7795889581d5"
      },
      "execution_count": null,
      "outputs": [
        {
          "output_type": "display_data",
          "data": {
            "text/plain": [
              "<IPython.core.display.HTML object>"
            ],
            "text/html": [
              "\n",
              "  <style>\n",
              "    pre {\n",
              "      white-space: pre-wrap;\n",
              "    }\n",
              "  </style>\n",
              "  "
            ]
          },
          "metadata": {}
        },
        {
          "output_type": "execute_result",
          "data": {
            "text/plain": [
              "((506, 142), 506, 197)"
            ]
          },
          "metadata": {},
          "execution_count": 18
        }
      ]
    },
    {
      "cell_type": "markdown",
      "source": [
        "# select only those sources who published 516 news"
      ],
      "metadata": {
        "id": "fHoDZnFAgAND"
      }
    },
    {
      "cell_type": "code",
      "source": [
        "df_source = df_source[df_source.source_id.isin(df_news_source_added.source_id)]"
      ],
      "metadata": {
        "id": "Xkm5x5mYgKab",
        "colab": {
          "base_uri": "https://localhost:8080/",
          "height": 17
        },
        "outputId": "f8683d98-ade1-4ee1-860a-71651eded90e"
      },
      "execution_count": null,
      "outputs": [
        {
          "output_type": "display_data",
          "data": {
            "text/plain": [
              "<IPython.core.display.HTML object>"
            ],
            "text/html": [
              "\n",
              "  <style>\n",
              "    pre {\n",
              "      white-space: pre-wrap;\n",
              "    }\n",
              "  </style>\n",
              "  "
            ]
          },
          "metadata": {}
        }
      ]
    },
    {
      "cell_type": "code",
      "source": [
        "df_source.shape, df_source.source_id.nunique()"
      ],
      "metadata": {
        "colab": {
          "base_uri": "https://localhost:8080/",
          "height": 34
        },
        "outputId": "a332a4f1-674b-4bbb-a7aa-e15f19f78cef",
        "id": "HTocDq9agKab"
      },
      "execution_count": null,
      "outputs": [
        {
          "output_type": "display_data",
          "data": {
            "text/plain": [
              "<IPython.core.display.HTML object>"
            ],
            "text/html": [
              "\n",
              "  <style>\n",
              "    pre {\n",
              "      white-space: pre-wrap;\n",
              "    }\n",
              "  </style>\n",
              "  "
            ]
          },
          "metadata": {}
        },
        {
          "output_type": "execute_result",
          "data": {
            "text/plain": [
              "((71, 5), 71)"
            ]
          },
          "metadata": {},
          "execution_count": 20
        }
      ]
    },
    {
      "cell_type": "code",
      "source": [
        "def recompute_user_label(df_user, df_news, df_user_news):\n",
        "  train_test_path = '/content/gdrive/My Drive/Loopy_belief_propagation/Graph_neural_network/code/code_for_516_news/4_fold/train_test/'\n",
        "  for i in tqdm(range(4)):\n",
        "    train = pd.read_csv(train_test_path+\"fold\"+str(i)+\"/train.csv\")\n",
        "    test = pd.read_csv(train_test_path+\"fold\"+str(i)+\"/test.csv\")\n",
        "\n",
        "    train.ids = train.ids.astype(str)\n",
        "    test.ids = test.ids.astype(str)\n",
        "    news_train = df_news[df_news.news_id.isin(train[train.entity_label==\"news\"]['ids'])]\n",
        "    user_train = df_user[df_user.user_id.isin(train[train.entity_label==\"user\"]['ids'])]\n",
        "    user_test = df_user[df_user.user_id.isin(test[test.entity_label==\"user\"]['ids'])]\n",
        "    #recompute user label\n",
        "    df_user_train = df_user_news[df_user_news.user_id.isin(user_train.user_id)]\n",
        "    df_user_train['label'] = df_user_train['label'].apply(lambda x: 1 if x=='fake' else 0)\n",
        "    df_avg = df_user_train.groupby(['user_id']).label.mean().reset_index(name='avg')\n",
        "    df_avg['user_label'] = [ 1 if avg>0.6 else(0 if avg<0.4 else 2) for avg in df_avg.avg]\n",
        "    user_train_recomputed = user_train.merge(df_avg[['user_id','user_label']], on=['user_id'], suffixes=[\"_x\",\"\"])\n",
        "    user_train_recomputed.drop(columns=[col for col in user_train_recomputed if col.endswith(\"_x\")], inplace=True)\n",
        "    df_user_recomputed = pd.concat([user_train_recomputed, user_test])\n",
        "    print(df_user_recomputed.shape)\n",
        "    return df_user_recomputed\n",
        "\n",
        "df_user = recompute_user_label(df_user, df_news, df_user_news_pair)"
      ],
      "metadata": {
        "colab": {
          "base_uri": "https://localhost:8080/",
          "height": 52
        },
        "id": "GbWFjNREsKmM",
        "outputId": "aea13e05-9fbd-4928-8dcb-16d7c8ead537"
      },
      "execution_count": null,
      "outputs": [
        {
          "output_type": "display_data",
          "data": {
            "text/plain": [
              "<IPython.core.display.HTML object>"
            ],
            "text/html": [
              "\n",
              "  <style>\n",
              "    pre {\n",
              "      white-space: pre-wrap;\n",
              "    }\n",
              "  </style>\n",
              "  "
            ]
          },
          "metadata": {}
        },
        {
          "output_type": "stream",
          "name": "stderr",
          "text": [
            "  0%|          | 0/4 [00:00<?, ?it/s]"
          ]
        },
        {
          "output_type": "stream",
          "name": "stdout",
          "text": [
            "(1135, 246)\n"
          ]
        },
        {
          "output_type": "stream",
          "name": "stderr",
          "text": [
            "\n"
          ]
        }
      ]
    },
    {
      "cell_type": "markdown",
      "source": [
        "# Get features"
      ],
      "metadata": {
        "id": "mp0JkhIbAMHm"
      }
    },
    {
      "cell_type": "code",
      "execution_count": null,
      "metadata": {
        "colab": {
          "base_uri": "https://localhost:8080/",
          "height": 86
        },
        "outputId": "4a067490-7774-48f5-f22b-6223223649ef",
        "id": "FtKR8orqbh6q"
      },
      "outputs": [
        {
          "output_type": "display_data",
          "data": {
            "text/plain": [
              "<IPython.core.display.HTML object>"
            ],
            "text/html": [
              "\n",
              "  <style>\n",
              "    pre {\n",
              "      white-space: pre-wrap;\n",
              "    }\n",
              "  </style>\n",
              "  "
            ]
          },
          "metadata": {}
        },
        {
          "output_type": "stream",
          "name": "stdout",
          "text": [
            "no of features for user 99\n",
            "no of features for news 71\n",
            "no of features for source 1\n",
            "no of features for news_source 72\n"
          ]
        }
      ],
      "source": [
        "df_user, user_features = features.get_features(df_user, node_type='user', impute=True, scale=True)\n",
        "df_news, news_features = features.get_features(df_news, node_type='news', impute=True, scale=True)\n",
        "df_source, source_features = features.get_features(df_source, node_type='source', impute=False, scale=True)\n",
        "df_news_source_added, news_source_features = features.get_features(df_news_source_added, node_type='news_source', impute=True, scale=True)"
      ]
    },
    {
      "cell_type": "code",
      "source": [
        "df_user.shape, df_news.shape, df_source.shape, df_all_user_news_pair.shape, df_all_source_news_pair.shape"
      ],
      "metadata": {
        "colab": {
          "base_uri": "https://localhost:8080/",
          "height": 34
        },
        "id": "xWiZqCh0BcNy",
        "outputId": "eace6c1e-71ae-4cd0-f890-4925504dc365"
      },
      "execution_count": null,
      "outputs": [
        {
          "output_type": "display_data",
          "data": {
            "text/plain": [
              "<IPython.core.display.HTML object>"
            ],
            "text/html": [
              "\n",
              "  <style>\n",
              "    pre {\n",
              "      white-space: pre-wrap;\n",
              "    }\n",
              "  </style>\n",
              "  "
            ]
          },
          "metadata": {}
        },
        {
          "output_type": "execute_result",
          "data": {
            "text/plain": [
              "((1135, 246), (506, 140), (71, 5), (401715, 3), (1081, 2))"
            ]
          },
          "metadata": {},
          "execution_count": 23
        }
      ]
    },
    {
      "cell_type": "code",
      "source": [
        "\"\"\"# Split user followes user and followers follow user pairs\"\"\"\n",
        "df_followers_sample = df_followers_sample.astype(str)\n",
        "df_user.user_id = df_user.user_id.astype(str)\n",
        "\n",
        "df_user_user_pair = df_followers_sample[df_followers_sample.followers.isin(df_user.user_id)]\n",
        "df_user_follower_pair = df_followers_sample[~df_followers_sample.followers.isin(df_user.user_id)]\n",
        "\n",
        "#check number of unique entities\n",
        "print(\"source\", df_source.source_id.nunique(), df_source_news_pair.source_id.nunique())\n",
        "print(\"news\", df_news.news_id.nunique(), df_source_news_pair.news_id.nunique(), df_user_news_pair.news_id.nunique())\n",
        "print(\"users\", df_user.user_id.nunique(), df_user_news_pair.user_id.nunique(),df_user_user_pair.user_id.nunique())\n",
        "print(\"followers\", df_user_follower_pair.user_id.nunique(), df_user_follower_pair.followers.nunique())\n"
      ],
      "metadata": {
        "colab": {
          "base_uri": "https://localhost:8080/",
          "height": 86
        },
        "outputId": "7ecfefe8-bb0d-42c7-ed34-4b5da4f68226",
        "id": "z1cpqMoPLoR9"
      },
      "execution_count": null,
      "outputs": [
        {
          "output_type": "display_data",
          "data": {
            "text/plain": [
              "<IPython.core.display.HTML object>"
            ],
            "text/html": [
              "\n",
              "  <style>\n",
              "    pre {\n",
              "      white-space: pre-wrap;\n",
              "    }\n",
              "  </style>\n",
              "  "
            ]
          },
          "metadata": {}
        },
        {
          "output_type": "stream",
          "name": "stdout",
          "text": [
            "source 71 197\n",
            "news 506 506 506\n",
            "users 1135 1135 357\n",
            "followers 0 0\n"
          ]
        }
      ]
    },
    {
      "cell_type": "code",
      "source": [
        "Counter(df_source.factual_score)"
      ],
      "metadata": {
        "colab": {
          "base_uri": "https://localhost:8080/",
          "height": 34
        },
        "id": "oFJ1x13Syksm",
        "outputId": "b40ba897-e2ac-4a58-cca0-14cd89070d2c"
      },
      "execution_count": null,
      "outputs": [
        {
          "output_type": "display_data",
          "data": {
            "text/plain": [
              "<IPython.core.display.HTML object>"
            ],
            "text/html": [
              "\n",
              "  <style>\n",
              "    pre {\n",
              "      white-space: pre-wrap;\n",
              "    }\n",
              "  </style>\n",
              "  "
            ]
          },
          "metadata": {}
        },
        {
          "output_type": "execute_result",
          "data": {
            "text/plain": [
              "Counter({0.0: 5, 1.0: 16, 2.0: 10, 3.0: 9, 4.0: 26, 5.0: 5})"
            ]
          },
          "metadata": {},
          "execution_count": 25
        }
      ]
    },
    {
      "cell_type": "markdown",
      "metadata": {
        "id": "T7VHLESrLoSH"
      },
      "source": [
        "# Assign id to each node as heterograph requires int id starting from 0"
      ]
    },
    {
      "cell_type": "markdown",
      "metadata": {
        "id": "-rH9l2XrLoSH"
      },
      "source": [
        "## assign ids for entities"
      ]
    },
    {
      "cell_type": "code",
      "source": [
        "# id for all source\n",
        "sources = list(df_source.source_id.unique())+list(df_source_news_pair.source_id.unique())\n",
        "mapping_source_id = dict(zip(set(sources), range(len(set(sources)))))\n",
        "print(\"#sources = \", len(mapping_source_id))\n",
        "\n",
        "# id for all news\n",
        "news = list(df_news.news_id.unique())+list(df_source_news_pair.news_id.unique())+list(df_user_news_pair.news_id.unique())\n",
        "mapping_news_id = dict(zip(set(news), range(len(set(news)))))\n",
        "print(\"#news = \", len(mapping_news_id))\n",
        "\n",
        "# id for all users including followers with features\n",
        "df_user.user_id = df_user.user_id.astype(str)\n",
        "df_user_news_pair.user_id = df_user_news_pair.user_id.astype(str)\n",
        "df_user_user_pair = df_user_user_pair.astype(str)\n",
        "df_user_follower_pair = df_user_follower_pair.astype(str)\n",
        "\n",
        "users = list(df_user.user_id.unique())+list(df_user_news_pair.user_id.unique())\\\n",
        "+list(df_user_user_pair.followers.unique())+list(df_user_user_pair.user_id.unique())\\\n",
        "+list(df_user_follower_pair.user_id.unique())\n",
        "mapping_user_id = dict(zip(set(users), range(len(set(users)))))\n",
        "print(\"#users\", len(mapping_user_id))\n",
        "\n",
        "# id for followers without feature\n",
        "followers = list(df_user_follower_pair.followers.unique())\n",
        "mapping_follower_id = dict(zip(set(followers), range(len(set(followers)))))\n",
        "print(\"#followers\", len(mapping_follower_id))"
      ],
      "metadata": {
        "id": "rfKDUfIhLoSH",
        "colab": {
          "base_uri": "https://localhost:8080/",
          "height": 86
        },
        "outputId": "5b027b7a-cbd2-49c4-e1ce-a424eee3e172"
      },
      "execution_count": null,
      "outputs": [
        {
          "output_type": "display_data",
          "data": {
            "text/plain": [
              "<IPython.core.display.HTML object>"
            ],
            "text/html": [
              "\n",
              "  <style>\n",
              "    pre {\n",
              "      white-space: pre-wrap;\n",
              "    }\n",
              "  </style>\n",
              "  "
            ]
          },
          "metadata": {}
        },
        {
          "output_type": "stream",
          "name": "stdout",
          "text": [
            "#sources =  197\n",
            "#news =  506\n",
            "#users 1135\n",
            "#followers 0\n"
          ]
        }
      ]
    },
    {
      "cell_type": "code",
      "execution_count": null,
      "metadata": {
        "id": "adMVSI7XLoSH",
        "colab": {
          "base_uri": "https://localhost:8080/",
          "height": 17
        },
        "outputId": "0e76e352-9c13-404f-fcd4-1ed114d1f2a7"
      },
      "outputs": [
        {
          "output_type": "display_data",
          "data": {
            "text/plain": [
              "<IPython.core.display.HTML object>"
            ],
            "text/html": [
              "\n",
              "  <style>\n",
              "    pre {\n",
              "      white-space: pre-wrap;\n",
              "    }\n",
              "  </style>\n",
              "  "
            ]
          },
          "metadata": {}
        }
      ],
      "source": [
        "# id for news and source\n",
        "df_source['publisherNode_id'] = df_source.source_id.apply(lambda x: mapping_source_id[x])\n",
        "df_source_news_pair['publisherNode_id'] = df_source_news_pair.source_id.apply(lambda x: mapping_source_id[x])\n",
        "\n",
        "df_news['newsNode_id'] = df_news.news_id.apply(lambda x: mapping_news_id[x])\n",
        "df_source_news_pair['newsNode_id'] = df_source_news_pair.news_id.apply(lambda x: mapping_news_id[x])\n",
        "df_user_news_pair['newsNode_id'] = df_user_news_pair.news_id.apply(lambda x: mapping_news_id[x])\n",
        "\n",
        "df_user['userNode_id'] = df_user.user_id.apply(lambda x: mapping_user_id[x])\n",
        "df_user_news_pair['userNode_id'] = df_user_news_pair.user_id.apply(lambda x: mapping_user_id[x])\n",
        "df_user_user_pair['userNode_id'] = df_user_user_pair.user_id.apply(lambda x: mapping_user_id[x])\n",
        "df_user_user_pair['followerWFeatNode_id'] = df_user_user_pair.followers.apply(lambda x: mapping_user_id[x])\n",
        "\n",
        "df_user_follower_pair['userNode_id'] = df_user_follower_pair.user_id.apply(lambda x: mapping_user_id[x])\n",
        "df_user_follower_pair['followerWoFeatNode_id'] = df_user_follower_pair.followers.apply(lambda x: mapping_follower_id[x])"
      ]
    },
    {
      "cell_type": "code",
      "source": [
        "df_user.shape, df_news.shape, df_source.shape, df_source_news_pair.shape, df_user_news_pair.shape,\\\n",
        "df_user_user_pair.shape, df_user_follower_pair.shape"
      ],
      "metadata": {
        "id": "p3PqOmL7LoSH",
        "colab": {
          "base_uri": "https://localhost:8080/",
          "height": 34
        },
        "outputId": "38c25034-e4de-4fcb-f4e9-26d24ed93bcb"
      },
      "execution_count": null,
      "outputs": [
        {
          "output_type": "display_data",
          "data": {
            "text/plain": [
              "<IPython.core.display.HTML object>"
            ],
            "text/html": [
              "\n",
              "  <style>\n",
              "    pre {\n",
              "      white-space: pre-wrap;\n",
              "    }\n",
              "  </style>\n",
              "  "
            ]
          },
          "metadata": {}
        },
        {
          "output_type": "execute_result",
          "data": {
            "text/plain": [
              "((1135, 247), (506, 141), (71, 6), (560, 4), (14309, 5), (4118, 4), (0, 4))"
            ]
          },
          "metadata": {},
          "execution_count": 28
        }
      ]
    },
    {
      "cell_type": "markdown",
      "source": [
        "# save entity pairs"
      ],
      "metadata": {
        "id": "6YWCetdtLoSI"
      }
    },
    {
      "cell_type": "code",
      "source": [
        "df_user.user_id = df_user.user_id.astype(str)\n",
        "df_user_news_pair.user_id = df_user_news_pair.user_id.astype(str)\n",
        "df_news.news_id = df_news.news_id.astype(str)\n",
        "df_user_news_pair.news_id = df_user_news_pair.news_id.astype(str)"
      ],
      "metadata": {
        "id": "GIYESrx3dWo7",
        "colab": {
          "base_uri": "https://localhost:8080/",
          "height": 17
        },
        "outputId": "5b42ff32-c147-458a-8cef-6ab58ff5f148"
      },
      "execution_count": null,
      "outputs": [
        {
          "output_type": "display_data",
          "data": {
            "text/plain": [
              "<IPython.core.display.HTML object>"
            ],
            "text/html": [
              "\n",
              "  <style>\n",
              "    pre {\n",
              "      white-space: pre-wrap;\n",
              "    }\n",
              "  </style>\n",
              "  "
            ]
          },
          "metadata": {}
        }
      ]
    },
    {
      "cell_type": "code",
      "source": [
        "df_news_source = df_source_news_pair[df_source_news_pair.news_id.isin(list(set(df_news.news_id)))]\n",
        "print(df_news_source.source_id.nunique(),'sources published',df_news_source.news_id.nunique(),\"news\")\n",
        "\n",
        "df_source_news = df_source_news_pair[df_source_news_pair.source_id.isin(list(set(df_source.source_id)))]\n",
        "print(df_source_news.source_id.nunique(),\"sources published\", df_source_news.news_id.nunique(),\"news\")\n",
        "\n",
        "print(\"bidirectional connection between source and news\")\n",
        "len(set(df_news_source.source_id).intersection(set(df_source_news.source_id))), len(set(df_source_news.news_id).intersection(set(df_news_source.news_id)))"
      ],
      "metadata": {
        "id": "uaVe7zkuLoSI",
        "colab": {
          "base_uri": "https://localhost:8080/",
          "height": 86
        },
        "outputId": "26f1248b-acf2-4ec4-b8f0-92ca15fc387a"
      },
      "execution_count": null,
      "outputs": [
        {
          "output_type": "display_data",
          "data": {
            "text/plain": [
              "<IPython.core.display.HTML object>"
            ],
            "text/html": [
              "\n",
              "  <style>\n",
              "    pre {\n",
              "      white-space: pre-wrap;\n",
              "    }\n",
              "  </style>\n",
              "  "
            ]
          },
          "metadata": {}
        },
        {
          "output_type": "stream",
          "name": "stdout",
          "text": [
            "197 sources published 506 news\n",
            "71 sources published 171 news\n",
            "bidirectional connection between source and news\n"
          ]
        },
        {
          "output_type": "execute_result",
          "data": {
            "text/plain": [
              "(71, 171)"
            ]
          },
          "metadata": {},
          "execution_count": 30
        }
      ]
    },
    {
      "cell_type": "code",
      "source": [
        "df_news_user = df_user_news_pair[df_user_news_pair.news_id.isin(list(set(df_news.news_id)))]\n",
        "print(df_news_user.user_id.nunique(),'users shared',df_news_user.news_id.nunique(),\"news\")\n",
        "\n",
        "df_user_news = df_user_news_pair[df_user_news_pair.user_id.isin(list(set(df_user.user_id)))]\n",
        "print(df_user_news.user_id.nunique(),\"users shared\", df_user_news.news_id.nunique(),\"news\")\n",
        "\n",
        "print(\"bidirectional connection between user and news\")\n",
        "len(set(df_news_user.user_id).intersection(set(df_user_news.user_id))), len(set(df_news_user.news_id).intersection(set(df_user_news.news_id)))"
      ],
      "metadata": {
        "id": "QV_34PpCLoSI",
        "colab": {
          "base_uri": "https://localhost:8080/",
          "height": 86
        },
        "outputId": "cbc120ed-c08b-49b2-bb23-8492e78a607a"
      },
      "execution_count": null,
      "outputs": [
        {
          "output_type": "display_data",
          "data": {
            "text/plain": [
              "<IPython.core.display.HTML object>"
            ],
            "text/html": [
              "\n",
              "  <style>\n",
              "    pre {\n",
              "      white-space: pre-wrap;\n",
              "    }\n",
              "  </style>\n",
              "  "
            ]
          },
          "metadata": {}
        },
        {
          "output_type": "stream",
          "name": "stdout",
          "text": [
            "1135 users shared 506 news\n",
            "1135 users shared 506 news\n",
            "bidirectional connection between user and news\n"
          ]
        },
        {
          "output_type": "execute_result",
          "data": {
            "text/plain": [
              "(1135, 506)"
            ]
          },
          "metadata": {},
          "execution_count": 31
        }
      ]
    },
    {
      "cell_type": "code",
      "source": [
        "print(df_user_user_pair.user_id.nunique(),'users followedby',df_user_user_pair.followers.nunique(),\"users with feature\")\n",
        "print(df_user_follower_pair.user_id.nunique(),'users followedby',df_user_follower_pair.followers.nunique(),\"users with no feature\")\n"
      ],
      "metadata": {
        "id": "el0vT0G-dduL",
        "colab": {
          "base_uri": "https://localhost:8080/",
          "height": 52
        },
        "outputId": "7c71e121-141f-4cac-d492-4b0266bd8c91"
      },
      "execution_count": null,
      "outputs": [
        {
          "output_type": "display_data",
          "data": {
            "text/plain": [
              "<IPython.core.display.HTML object>"
            ],
            "text/html": [
              "\n",
              "  <style>\n",
              "    pre {\n",
              "      white-space: pre-wrap;\n",
              "    }\n",
              "  </style>\n",
              "  "
            ]
          },
          "metadata": {}
        },
        {
          "output_type": "stream",
          "name": "stdout",
          "text": [
            "357 users followedby 513 users with feature\n",
            "0 users followedby 0 users with no feature\n"
          ]
        }
      ]
    },
    {
      "cell_type": "code",
      "execution_count": null,
      "metadata": {
        "id": "eJRmMkyYwp74",
        "colab": {
          "base_uri": "https://localhost:8080/",
          "height": 17
        },
        "outputId": "71cec00b-1ea6-4470-c2f6-6aa4c9945edf"
      },
      "outputs": [
        {
          "output_type": "display_data",
          "data": {
            "text/plain": [
              "<IPython.core.display.HTML object>"
            ],
            "text/html": [
              "\n",
              "  <style>\n",
              "    pre {\n",
              "      white-space: pre-wrap;\n",
              "    }\n",
              "  </style>\n",
              "  "
            ]
          },
          "metadata": {}
        }
      ],
      "source": [
        "def get_label_and_feat(node, feature, node_type, padding=True):\n",
        "  if node_type == 'user':\n",
        "    id = 'userNode_id'\n",
        "    node_label = 'user_label'\n",
        "    node_df = df_user[df_user[id]==node.tolist()]\n",
        "  elif node_type == 'news':\n",
        "    id = 'newsNode_id'\n",
        "    node_label = 'news_label'\n",
        "    node_df = df_news[df_news[id]==node.tolist()]\n",
        "  elif node_type == 'source':\n",
        "    id = 'publisherNode_id'\n",
        "    node_label = 'factual_score'\n",
        "    node_df = df_source[df_source[id]==node.tolist()]\n",
        "  elif node_type == 'follower':\n",
        "    label = 100\n",
        "    feat = np.zeros(len(feature))\n",
        "    node_df = pd.DataFrame()\n",
        "  # for any node with no features and label\n",
        "  if node_df.shape[0] == 0:\n",
        "    # id = 'followerNode_id'\n",
        "    # node_df = df_followers_sample[df_followers_sample[id]==node.tolist()]\n",
        "    label = 100\n",
        "    feat = np.zeros(len(feature))\n",
        "  else:\n",
        "    label = node_df[node_label].values[0]\n",
        "    feat = node_df[feature].values[0]\n",
        "  \n",
        "  if padding:\n",
        "    if node_type == 'user':\n",
        "      user_f = feat\n",
        "      news_f = np.zeros(len(news_features))\n",
        "      source_f = np.zeros(len(source_features))\n",
        "      \n",
        "    elif node_type == 'news':\n",
        "      user_f = np.zeros(len(user_features))\n",
        "      news_f = feat\n",
        "      source_f = np.zeros(len(source_features))\n",
        "      \n",
        "    elif node_type == 'source':\n",
        "      user_f = np.zeros(len(user_features))\n",
        "      news_f = np.zeros(len(news_features))\n",
        "      source_f = feat\n",
        "  \n",
        "    feat = np.array(list(user_f)+list(news_f)+list(source_f))\n",
        "  # print(label)\n",
        "  return label, feat"
      ]
    },
    {
      "cell_type": "code",
      "execution_count": null,
      "metadata": {
        "id": "mtZxKX0Jx7ch",
        "colab": {
          "base_uri": "https://localhost:8080/",
          "height": 17
        },
        "outputId": "999bef99-2b36-45f0-f57b-f565c9531eb9"
      },
      "outputs": [
        {
          "output_type": "display_data",
          "data": {
            "text/plain": [
              "<IPython.core.display.HTML object>"
            ],
            "text/html": [
              "\n",
              "  <style>\n",
              "    pre {\n",
              "      white-space: pre-wrap;\n",
              "    }\n",
              "  </style>\n",
              "  "
            ]
          },
          "metadata": {}
        }
      ],
      "source": [
        "def create_heterograph(df_source_news_pair, df_user_news_pair, df_user_user_pair, df_user_follower_pair, verbose=True,padding=True):\n",
        "  # Create heterogenous edges\n",
        "  source_publish_news_edge = list(set([tuple(x) for x in df_source_news_pair[['publisherNode_id', 'newsNode_id']].to_numpy()]))\n",
        "  news_publishedby_source_edge = list(set([tuple(x) for x in df_source_news_pair[['newsNode_id', 'publisherNode_id']].to_numpy()]))\n",
        "  news_shareby_user_edge = list(set([tuple(x) for x in df_user_news_pair[['newsNode_id', 'userNode_id']].to_numpy()]))\n",
        "  user_share_news_edge = list(set([tuple(x) for x in df_user_news_pair[['userNode_id', 'newsNode_id']].to_numpy()]))\n",
        "  user_follow_user_edge = [tuple(x) for x in df_user_user_pair[['followerWFeatNode_id','userNode_id']].to_numpy()]\n",
        "  user_followedby_user_edge = [tuple(x) for x in df_user_user_pair[['userNode_id','followerWFeatNode_id']].to_numpy()]\n",
        "  # follower_follow_user_edge = [tuple(x) for x in df_user_follower_pair[['followerWoFeatNode_id','userNode_id']].to_numpy()]\n",
        "  # user_followedby_follower_edge = [tuple(x) for x in df_user_follower_pair[['userNode_id','followerWoFeatNode_id']].to_numpy()]\n",
        "\n",
        "\n",
        "\n",
        "  # create heterogenous graph\n",
        "  hetero_graph = dgl.heterograph({('source', 'publish', 'news'):source_publish_news_edge,\n",
        "                                ('news', 'publishedby', 'source'): news_publishedby_source_edge,\n",
        "                      ('news', 'shareby', 'user'): news_shareby_user_edge,\n",
        "                      ('user', 'share', 'news'): user_share_news_edge,\n",
        "                      ('user', 'followedby', 'user'): user_followedby_user_edge,\n",
        "                      ('user', 'follow', 'user'): user_follow_user_edge\n",
        "                      # ('user', 'followedby_', 'follower'): user_followedby_follower_edge,\n",
        "                      # ('follower', 'follow_', 'user'): follower_follow_user_edge\n",
        "                      })\n",
        "  if verbose:\n",
        "    print(hetero_graph)\n",
        "    print('Node types:', hetero_graph.ntypes)\n",
        "    print('Edge types:', hetero_graph.etypes)\n",
        "    print('Canonical edge types:', hetero_graph.canonical_etypes)\n",
        "  \n",
        "  # Assign features to node\n",
        "  user_label = []\n",
        "  user_feat = []\n",
        "  # i=0\n",
        "  for user in hetero_graph.nodes('user'):\n",
        "    label, feat = get_label_and_feat(user, user_features, 'user',padding=padding)\n",
        "    user_label.append(label)\n",
        "    user_feat.append(feat)\n",
        "    # i+=1\n",
        "    # if i==2:\n",
        "    #   break\n",
        "\n",
        "    \n",
        "  news_label = []\n",
        "  news_feat = []\n",
        "  for news in hetero_graph.nodes('news'):\n",
        "    label, feat = get_label_and_feat(news, news_features, 'news',padding=padding)\n",
        "    news_label.append(label)\n",
        "    news_feat.append(feat)\n",
        "\n",
        "  source_label = []\n",
        "  source_feat = []\n",
        "  for source in hetero_graph.nodes('source'):\n",
        "    label, feat = get_label_and_feat(source, source_features, 'source',padding=padding)\n",
        "    source_label.append(label)\n",
        "    source_feat.append(feat)\n",
        "\n",
        "  # follower_label = []\n",
        "  # follower_feat = []\n",
        "  # for follower in hetero_graph.nodes('follower'):\n",
        "  #   label, feat = get_label_and_feat(follower, user_features, 'follower',padding=padding)\n",
        "  #   follower_label.append(label)\n",
        "  #   follower_feat.append(feat)\n",
        "\n",
        "  hetero_graph.nodes['user'].data['feat'] = torch.as_tensor(np.array(user_feat)).to(device)\n",
        "  hetero_graph.nodes['news'].data['feat'] = torch.as_tensor(np.array(news_feat)).to(device)\n",
        "  hetero_graph.nodes['source'].data['feat'] = torch.as_tensor(np.array(source_feat)).to(device)\n",
        "  # hetero_graph.nodes['follower'].data['feat'] = torch.as_tensor(np.array(follower_feat)).to(device)\n",
        "\n",
        "  hetero_graph.nodes['user'].data['label'] = torch.as_tensor(np.array(user_label)).to(device)\n",
        "  hetero_graph.nodes['news'].data['label'] = torch.as_tensor(np.array(news_label)).to(device)\n",
        "  hetero_graph.nodes['source'].data['label'] = torch.as_tensor(np.array(source_label)).to(device)\n",
        "  # hetero_graph.nodes['follower'].data['label'] = torch.as_tensor(np.array(follower_label)).to(device)\n",
        "\n",
        "  return hetero_graph\n"
      ]
    },
    {
      "cell_type": "code",
      "source": [
        "def run_model(hetero_graph, node_type, news_train, news_test, user_train, user_test, source_train, source_test, model,add_layer=False, baseline=False):\n",
        "  # randomly generate training masks on user nodes\n",
        "  n_users = len(hetero_graph.nodes('user'))\n",
        "  n_news = len(hetero_graph.nodes('news'))\n",
        "  n_source = len(hetero_graph.nodes('source'))\n",
        "  # n_follower = len(hetero_graph.nodes('follower'))\n",
        "\n",
        "  # mask train test for news\n",
        "  news_train_mask = torch.zeros(n_news, dtype=torch.bool)\n",
        "  news_test_mask = torch.zeros(n_news, dtype=torch.bool)\n",
        "  news_train_mask[news_train] = True\n",
        "  news_test_mask[news_test] = True\n",
        "\n",
        "   # mask train test for user\n",
        "  user_train_mask = torch.zeros(n_users, dtype=torch.bool)\n",
        "  user_test_mask = torch.zeros(n_users, dtype=torch.bool)\n",
        "  user_train_mask[user_train] = True\n",
        "  user_test_mask[user_test] = True\n",
        "\n",
        "   # mask train test for source\n",
        "  source_train_mask = torch.zeros(n_source, dtype=torch.bool)\n",
        "  source_test_mask = torch.zeros(n_source, dtype=torch.bool)\n",
        "  source_train_mask[source_train] = True\n",
        "  source_test_mask[source_test] = True\n",
        "\n",
        "\n",
        "  hetero_graph.nodes['user'].data['train_mask'] = user_train_mask\n",
        "  hetero_graph.nodes['user'].data['test_mask'] = user_test_mask\n",
        "  hetero_graph.nodes['news'].data['train_mask'] = news_train_mask\n",
        "  hetero_graph.nodes['news'].data['test_mask'] = news_test_mask\n",
        "  hetero_graph.nodes['source'].data['train_mask'] = source_train_mask\n",
        "  hetero_graph.nodes['source'].data['test_mask'] = source_test_mask\n",
        "\n",
        "  train_mask_n = hetero_graph.nodes['news'].data['train_mask']\n",
        "  test_mask_n = hetero_graph.nodes['news'].data['test_mask']\n",
        "  train_mask_u = hetero_graph.nodes['user'].data['train_mask']\n",
        "  test_mask_u = hetero_graph.nodes['user'].data['test_mask']\n",
        "  train_mask_s = hetero_graph.nodes['source'].data['train_mask']\n",
        "  test_mask_s = hetero_graph.nodes['source'].data['test_mask']\n",
        "\n",
        "  \n",
        "\n",
        "  labels_n = hetero_graph.nodes['news'].data['label']\n",
        "  # labels_n = labels_n.to(torch.float32)\n",
        "  labels_u = hetero_graph.nodes['user'].data['label']\n",
        "  # labels_u = labels_u.to(torch.float32)\n",
        "  labels_s = hetero_graph.nodes['source'].data['label'].long()\n",
        "  # labels_s = labels_s.to(torch.float32)\n",
        "\n",
        "  u_feats = hetero_graph.nodes['user'].data['feat'].float()\n",
        "  n_feats = hetero_graph.nodes['news'].data['feat'].float()\n",
        "  s_feats = hetero_graph.nodes['source'].data['feat'].float()\n",
        "  # f_feats = hetero_graph.nodes['follower'].data['feat'].float()\n",
        "  \n",
        "\n",
        "  node_features = {'user': u_feats, 'news': n_feats, 'source': s_feats}#,'follower':f_feats}\n",
        "  \n",
        "\n",
        "  user_dim = len(user_features)\n",
        "  news_dim = len(news_features)\n",
        "  source_dim = len(source_features)\n",
        "  hidden_dim = 150\n",
        "    \n",
        "\n",
        "  #in_features should be the same as the dimensionality of the input node features to your GNN model. \n",
        "  #It can either be your initial node feature size or the output of an initial MLP that projects your initial node features.\n",
        "  # in_features corresponds to the size of your input features.\n",
        "  # out_features corresponds to the size of your output, usually the number of classes for classification or 1 for regression.\n",
        "  # hidden_features corresponds to the size of your hidden state, where you set it as a hyperparameter.\n",
        "  n_hetero_features= hidden_dim #len(user_features+news_features+source_features)\n",
        " \n",
        "  n_user_classes = len(hetero_graph.nodes['user'].data['label'].unique())\n",
        "  n_news_classes = len(hetero_graph.nodes['news'].data['label'].unique())\n",
        "  n_source_classes = len(hetero_graph.nodes['source'].data['label'].unique())\n",
        "  model = model(user_dim, news_dim, source_dim, hidden_dim, n_user_classes,n_news_classes, n_source_classes, hetero_graph.etypes)\n",
        "  opt = torch.optim.Adam(model.parameters(), lr=0.01)\n",
        "  # print(model)\n",
        "\n",
        "  \n",
        "  loss_ = []\n",
        "  train_pred = []\n",
        "  train_label = []\n",
        "  test_pred = []\n",
        "  test_label = []\n",
        "  train_pred_rf = []\n",
        "  test_pred_rf = []\n",
        "\n",
        "  reports = []\n",
        "  reports_rf = []\n",
        "  for epoch in range(50):\n",
        "      model.train()\n",
        "      \n",
        "      # forward propagation by using all nodes and extracting the news embeddings\n",
        "      logits, logit1 = model(hetero_graph, node_features)\n",
        "      logits_u = logits['user']\n",
        "      logits_n = logits['news']\n",
        "      logits_s = logits['source']\n",
        "\n",
        "      # logit1= logit1[node_type]\n",
        "      \n",
        "      # compute loss\n",
        "      loss_n = F.cross_entropy(logits_n[train_mask_n], labels_n[train_mask_n])\n",
        "      loss_u = F.cross_entropy(logits_u[train_mask_u], labels_u[train_mask_u])\n",
        "      loss_s = F.cross_entropy(logits_s[train_mask_s], labels_s[train_mask_s])\n",
        "      loss = loss_u+loss_n+loss_s\n",
        "\n",
        "      # zero the parameter gradients\n",
        "      opt.zero_grad()\n",
        "      # backward propagation\n",
        "      loss.backward(retain_graph=True)\n",
        "      opt.step()\n",
        "\n",
        "      \n",
        "      #GNN\n",
        "      pred = logits[node_type].argmax(1)\n",
        "      if node_type=='news':\n",
        "        train_m = train_mask_n\n",
        "        test_m = test_mask_n\n",
        "        label = labels_n\n",
        "      elif node_type=='user':\n",
        "        train_m = train_mask_u\n",
        "        test_m = test_mask_u\n",
        "        label = labels_u\n",
        "      elif node_type=='source':\n",
        "        train_m = train_mask_s\n",
        "        test_m = test_mask_s\n",
        "        label = labels_s\n",
        "\n",
        "      label_train = label[train_m].detach().numpy()\n",
        "      label_test = label[test_m].detach().numpy()\n",
        "      pred_train = pred[train_m].detach().numpy()\n",
        "      pred_test = pred[test_m].detach().numpy()\n",
        "\n",
        "      # random forest regression\n",
        "      reg = RandomForestClassifier(class_weight=\"balanced\", random_state=0)\n",
        "      if baseline:\n",
        "        feat = node_features[node_type]\n",
        "      else:\n",
        "        feat= logit1[node_type]\n",
        "      reg.fit(feat[train_m].detach().numpy(), label_train)\n",
        "      pred_train_rf = reg.predict(feat[train_m].detach().numpy())\n",
        "      pred_test_rf = reg.predict(feat[test_m].detach().numpy())\n",
        "      \n",
        "      train_label.extend(label_train.tolist())\n",
        "      train_pred.extend(pred_train.tolist())\n",
        "      test_label.extend(label_test.tolist())\n",
        "      test_pred.extend(pred_test.tolist())\n",
        "      train_pred_rf.extend(pred_train_rf.tolist())\n",
        "      test_pred_rf.extend(pred_test_rf.tolist())\n",
        "\n",
        "      loss_.append(loss.item())\n",
        "      # print(classification_report(label_test, pred_test_rf, digits=3))\n",
        "      report = pd.DataFrame(classification_report(label_test, pred_test, digits=3, output_dict=True))\n",
        "      reports.append(report)\n",
        "\n",
        "      report_rf = pd.DataFrame(classification_report(label_test, pred_test_rf, digits=3, output_dict=True))\n",
        "      reports_rf.append(report_rf)\n",
        "\n",
        "  df_score = pd.concat(reports)\n",
        "  df_score.groupby(df_score.index).mean()\n",
        "  df_score_rf = pd.concat(reports_rf)\n",
        "  df_score_rf.groupby(df_score_rf.index).mean()\n",
        "  \n",
        "  return train_label, train_pred, test_label, test_pred,train_pred_rf, test_pred_rf, loss_, df_score, df_score_rf\n",
        "\n",
        "      \n"
      ],
      "metadata": {
        "id": "nD8_FkxafPbD",
        "colab": {
          "base_uri": "https://localhost:8080/",
          "height": 17
        },
        "outputId": "b424c459-9f12-4e57-ce12-c1b896dbc2f7"
      },
      "execution_count": null,
      "outputs": [
        {
          "output_type": "display_data",
          "data": {
            "text/plain": [
              "<IPython.core.display.HTML object>"
            ],
            "text/html": [
              "\n",
              "  <style>\n",
              "    pre {\n",
              "      white-space: pre-wrap;\n",
              "    }\n",
              "  </style>\n",
              "  "
            ]
          },
          "metadata": {}
        }
      ]
    },
    {
      "cell_type": "code",
      "source": [
        "def run_exp(hetero_graph, df_source, df_news, df_user, node_type, model,add_layer=False, baseline=False):\n",
        "  df_result = pd.DataFrame(columns= ['label', 'pred','type','fold'])\n",
        "  df_scores = []\n",
        "  df_scores_rf = []\n",
        "  df_user['user_id'] = df_user['user_id'].astype(str)\n",
        "  \n",
        "  train_test_path = '/content/gdrive/My Drive/Loopy_belief_propagation/Graph_neural_network/code/code_for_516_news/4_fold/train_test/'\n",
        "  for i in tqdm(range(4)):\n",
        "    train = pd.read_csv(train_test_path+\"fold\"+str(i)+\"/train.csv\")\n",
        "    test = pd.read_csv(train_test_path+\"fold\"+str(i)+\"/test.csv\")\n",
        "\n",
        "    train.ids = train.ids.astype(str)\n",
        "    test.ids = test.ids.astype(str)\n",
        "\n",
        "    news_train = df_news[df_news.news_id.isin(train[train.entity_label==\"news\"]['ids'])]['newsNode_id'].values\n",
        "    news_test = df_news[df_news.news_id.isin(test[test.entity_label==\"news\"]['ids'])]['newsNode_id'].values\n",
        "    user_train = df_user[df_user.user_id.isin(train[train.entity_label==\"user\"]['ids'])]['userNode_id'].values\n",
        "    user_test = df_user[df_user.user_id.isin(test[test.entity_label==\"user\"]['ids'])]['userNode_id'].values\n",
        "    source_train = df_source[df_source.source_id.isin(train[train.entity_label==\"source\"]['ids'])]['publisherNode_id'].values\n",
        "    source_test = df_source[df_source.source_id.isin(test[test.entity_label==\"source\"]['ids'])]['publisherNode_id'].values\n",
        "    print(\"actual number in train\", len(set(news_train)), len(set(user_train)), len(set(source_train)))\n",
        "    print(\"actual number in test\", len(set(news_test)), len(set(user_test)), len(set(source_test)))\n",
        "  \n",
        "    train_label, train_pred, test_label, test_pred,train_pred_rf, test_pred_rf, loss_, df_score, df_score_rf = run_model(\n",
        "        hetero_graph, node_type, news_train,news_test, user_train, user_test, source_train, source_test, model,add_layer, baseline)\n",
        "    #spearsman rank correlation coefficient\n",
        "    print(\"For fold \", str(i))\n",
        "    print(\"Train\", stats.spearmanr(train_label, train_pred))\n",
        "    print(\"Test\", stats.spearmanr(test_label, test_pred))\n",
        "    print(\"Train\", stats.pearsonr(train_label, train_pred))\n",
        "    print(\"Test\", stats.pearsonr(test_label, test_pred))\n",
        "\n",
        "    print(\"Train RF\", stats.spearmanr(train_label, train_pred_rf))\n",
        "    print(\"Test RF\", stats.spearmanr(test_label, test_pred_rf))\n",
        "    print(\"Train RF\", stats.pearsonr(train_label, train_pred_rf))\n",
        "    print(\"Test RF\", stats.pearsonr(test_label, test_pred_rf))\n",
        "\n",
        "    df_result= df_result.append(pd.DataFrame({'label': train_label,\n",
        "                                              'pred': train_pred,\n",
        "                                              'pred_rf': train_pred_rf,\n",
        "                                  'type': 'train',\n",
        "                                  'fold': str(i)}))\n",
        "    df_result= df_result.append(pd.DataFrame({'label': test_label,\n",
        "                                              'pred': test_pred,\n",
        "                                              'pred_rf': test_pred_rf,\n",
        "                                  'type': 'test',\n",
        "                                  'fold': str(i)}))\n",
        "    df_scores.append(df_score)\n",
        "    df_scores_rf.append(df_score_rf)\n",
        "    # df_scores['loss'] = df_scores['loss'].append(loss)\n",
        "\n",
        "  # print(df_scores)\n",
        "  df_result_test = df_result[df_result['type']=='test']\n",
        "  print(\"Test overall\",stats.spearmanr(df_result_test.label, df_result_test.pred))\n",
        "  print(\"Test overall\",stats.pearsonr(df_result_test.label, df_result_test.pred))\n",
        "  print(\"Test overall RF\",stats.spearmanr(df_result_test.label, df_result_test.pred_rf))\n",
        "  print(\"Test overall RF\",stats.pearsonr(df_result_test.label, df_result_test.pred_rf))\n",
        "  df_scores = pd.concat(df_scores)\n",
        "  # print(\"\\n GNN \\n\")\n",
        "  # print(df_scores.groupby(df_scores.index).mean())\n",
        "  df_scores_rf = pd.concat(df_scores_rf)\n",
        "  # print(\"\\n RF \\n\")\n",
        "  # print(df_scores_rf.groupby(df_scores_rf.index).mean())\n",
        "  df_scores.to_csv(data_path+node_type+'GNN_scores_for_modified_RGCN.csv')\n",
        "  df_scores_rf.to_csv(data_path+node_type+'GNN_scores_for_modified_RGCN_plus_RF.csv')\n",
        "  return df_scores.groupby(df_scores.index).mean(), df_scores_rf.groupby(df_scores_rf.index).mean()\n",
        " "
      ],
      "metadata": {
        "id": "xuPypyjD2x4m",
        "colab": {
          "base_uri": "https://localhost:8080/",
          "height": 17
        },
        "outputId": "906de2b2-05b4-44c3-9c2e-6b5789047191"
      },
      "execution_count": null,
      "outputs": [
        {
          "output_type": "display_data",
          "data": {
            "text/plain": [
              "<IPython.core.display.HTML object>"
            ],
            "text/html": [
              "\n",
              "  <style>\n",
              "    pre {\n",
              "      white-space: pre-wrap;\n",
              "    }\n",
              "  </style>\n",
              "  "
            ]
          },
          "metadata": {}
        }
      ]
    },
    {
      "cell_type": "code",
      "source": [
        "hetero_graph = create_heterograph(df_source_news_pair, df_user_news_pair, \n",
        "                                  df_user_user_pair, df_user_follower_pair, \n",
        "                                  verbose = True, padding = False)"
      ],
      "metadata": {
        "id": "YhyjJqjF2AXM",
        "colab": {
          "base_uri": "https://localhost:8080/",
          "height": 139
        },
        "outputId": "d4b1a44e-335e-4017-8d8a-a0f8e469916e"
      },
      "execution_count": null,
      "outputs": [
        {
          "output_type": "display_data",
          "data": {
            "text/plain": [
              "<IPython.core.display.HTML object>"
            ],
            "text/html": [
              "\n",
              "  <style>\n",
              "    pre {\n",
              "      white-space: pre-wrap;\n",
              "    }\n",
              "  </style>\n",
              "  "
            ]
          },
          "metadata": {}
        },
        {
          "output_type": "stream",
          "name": "stdout",
          "text": [
            "Graph(num_nodes={'news': 506, 'source': 197, 'user': 1135},\n",
            "      num_edges={('news', 'publishedby', 'source'): 506, ('news', 'shareby', 'user'): 14309, ('source', 'publish', 'news'): 506, ('user', 'follow', 'user'): 4118, ('user', 'followedby', 'user'): 4118, ('user', 'share', 'news'): 14309},\n",
            "      metagraph=[('news', 'source', 'publishedby'), ('news', 'user', 'shareby'), ('source', 'news', 'publish'), ('user', 'user', 'follow'), ('user', 'user', 'followedby'), ('user', 'news', 'share')])\n",
            "Node types: ['news', 'source', 'user']\n",
            "Edge types: ['publishedby', 'shareby', 'publish', 'follow', 'followedby', 'share']\n",
            "Canonical edge types: [('news', 'publishedby', 'source'), ('news', 'shareby', 'user'), ('source', 'publish', 'news'), ('user', 'follow', 'user'), ('user', 'followedby', 'user'), ('user', 'share', 'news')]\n"
          ]
        }
      ]
    },
    {
      "cell_type": "code",
      "source": [
        "# if conlayer is not added change padding to True\n",
        "df_GNN_score_news, df_RF_score_news = run_exp(hetero_graph, df_source, df_news, df_user,'news', models.RGCN2_combine_losses, add_layer=False, baseline=False)"
      ],
      "metadata": {
        "id": "OrFEy4pz_T0Y",
        "colab": {
          "base_uri": "https://localhost:8080/",
          "height": 868
        },
        "outputId": "a0db3411-9ad9-4e9c-b321-d8c260ff4543"
      },
      "execution_count": null,
      "outputs": [
        {
          "output_type": "display_data",
          "data": {
            "text/plain": [
              "<IPython.core.display.HTML object>"
            ],
            "text/html": [
              "\n",
              "  <style>\n",
              "    pre {\n",
              "      white-space: pre-wrap;\n",
              "    }\n",
              "  </style>\n",
              "  "
            ]
          },
          "metadata": {}
        },
        {
          "output_type": "stream",
          "name": "stderr",
          "text": [
            "\r  0%|          | 0/4 [00:00<?, ?it/s]"
          ]
        },
        {
          "output_type": "stream",
          "name": "stdout",
          "text": [
            "actual number in train 381 851 53\n",
            "actual number in test 125 284 18\n"
          ]
        },
        {
          "output_type": "stream",
          "name": "stderr",
          "text": [
            "\r 25%|██▌       | 1/4 [00:39<01:59, 39.99s/it]"
          ]
        },
        {
          "output_type": "stream",
          "name": "stdout",
          "text": [
            "For fold  0\n",
            "Train SpearmanrResult(correlation=0.8689161690467991, pvalue=0.0)\n",
            "Test SpearmanrResult(correlation=0.7654132604295895, pvalue=0.0)\n",
            "Train (0.8689161690468012, 0.0)\n",
            "Test (0.7654132604295935, 0.0)\n",
            "Train RF SpearmanrResult(correlation=0.9999999999999998, pvalue=0.0)\n",
            "Test RF SpearmanrResult(correlation=0.8215691918881317, pvalue=0.0)\n",
            "Train RF (1.0, 0.0)\n",
            "Test RF (0.8215691918881268, 0.0)\n",
            "actual number in train 380 851 53\n",
            "actual number in test 126 284 18\n"
          ]
        },
        {
          "output_type": "stream",
          "name": "stderr",
          "text": [
            "\r 50%|█████     | 2/4 [01:05<01:03, 31.71s/it]"
          ]
        },
        {
          "output_type": "stream",
          "name": "stdout",
          "text": [
            "For fold  1\n",
            "Train SpearmanrResult(correlation=0.8624829319115594, pvalue=0.0)\n",
            "Test SpearmanrResult(correlation=0.7401269660235616, pvalue=0.0)\n",
            "Train (0.8624829319115559, 0.0)\n",
            "Test (0.7401269660235615, 0.0)\n",
            "Train RF SpearmanrResult(correlation=0.994514178333822, pvalue=0.0)\n",
            "Test RF SpearmanrResult(correlation=0.8226614072455686, pvalue=0.0)\n",
            "Train RF (0.994514178333825, 0.0)\n",
            "Test RF (0.8226614072455698, 0.0)\n",
            "actual number in train 378 851 54\n",
            "actual number in test 128 284 17\n"
          ]
        },
        {
          "output_type": "stream",
          "name": "stderr",
          "text": [
            "\r 75%|███████▌  | 3/4 [01:31<00:28, 28.82s/it]"
          ]
        },
        {
          "output_type": "stream",
          "name": "stdout",
          "text": [
            "For fold  2\n",
            "Train SpearmanrResult(correlation=0.8823483782661135, pvalue=0.0)\n",
            "Test SpearmanrResult(correlation=0.7899839513091972, pvalue=0.0)\n",
            "Train (0.8823483782661086, 0.0)\n",
            "Test (0.7899839513091969, 0.0)\n",
            "Train RF SpearmanrResult(correlation=0.9945341876050766, pvalue=0.0)\n",
            "Test RF SpearmanrResult(correlation=0.8509875597598032, pvalue=0.0)\n",
            "Train RF (0.9945341876050822, 0.0)\n",
            "Test RF (0.8509875597598078, 0.0)\n",
            "actual number in train 379 852 53\n",
            "actual number in test 127 283 18\n"
          ]
        },
        {
          "output_type": "stream",
          "name": "stderr",
          "text": [
            "100%|██████████| 4/4 [01:57<00:00, 29.49s/it]"
          ]
        },
        {
          "output_type": "stream",
          "name": "stdout",
          "text": [
            "For fold  3\n",
            "Train SpearmanrResult(correlation=0.862049362675302, pvalue=0.0)\n",
            "Test SpearmanrResult(correlation=0.7816998860891662, pvalue=0.0)\n",
            "Train (0.8620493626753057, 0.0)\n",
            "Test (0.7816998860891661, 0.0)\n",
            "Train RF SpearmanrResult(correlation=0.9944391038583434, pvalue=0.0)\n",
            "Test RF SpearmanrResult(correlation=0.8674326505088518, pvalue=0.0)\n",
            "Train RF (0.994439103858348, 0.0)\n",
            "Test RF (0.8674326505088514, 0.0)\n",
            "Test overall SpearmanrResult(correlation=0.7690784189067515, pvalue=0.0)\n",
            "Test overall (0.7690784189067559, 0.0)\n",
            "Test overall RF SpearmanrResult(correlation=0.8408000457175777, pvalue=0.0)\n",
            "Test overall RF (0.840800045717576, 0.0)\n"
          ]
        },
        {
          "output_type": "stream",
          "name": "stderr",
          "text": [
            "\n"
          ]
        }
      ]
    },
    {
      "cell_type": "code",
      "source": [
        "# if conlayer is not added change padding to True\n",
        "df_GNN_score_user, df_RF_score_user = run_exp(hetero_graph, df_source, df_news, df_user,'user', models.RGCN2_combine_losses, add_layer=False, baseline=False)"
      ],
      "metadata": {
        "id": "dSJ-VaQl7czZ",
        "colab": {
          "base_uri": "https://localhost:8080/",
          "height": 868
        },
        "outputId": "76a613c7-92d2-4747-eb3c-277b79300cdc"
      },
      "execution_count": null,
      "outputs": [
        {
          "output_type": "display_data",
          "data": {
            "text/plain": [
              "<IPython.core.display.HTML object>"
            ],
            "text/html": [
              "\n",
              "  <style>\n",
              "    pre {\n",
              "      white-space: pre-wrap;\n",
              "    }\n",
              "  </style>\n",
              "  "
            ]
          },
          "metadata": {}
        },
        {
          "output_type": "stream",
          "name": "stderr",
          "text": [
            "\r  0%|          | 0/4 [00:00<?, ?it/s]"
          ]
        },
        {
          "output_type": "stream",
          "name": "stdout",
          "text": [
            "actual number in train 381 851 53\n",
            "actual number in test 125 284 18\n"
          ]
        },
        {
          "output_type": "stream",
          "name": "stderr",
          "text": [
            "\r 25%|██▌       | 1/4 [00:36<01:50, 36.94s/it]"
          ]
        },
        {
          "output_type": "stream",
          "name": "stdout",
          "text": [
            "For fold  0\n",
            "Train SpearmanrResult(correlation=0.7863686204555417, pvalue=0.0)\n",
            "Test SpearmanrResult(correlation=0.669538325907357, pvalue=0.0)\n",
            "Train (0.7493383682959656, 0.0)\n",
            "Test (0.6180114668191792, 0.0)\n",
            "Train RF SpearmanrResult(correlation=1.0, pvalue=0.0)\n",
            "Test RF SpearmanrResult(correlation=0.7468537307124546, pvalue=0.0)\n",
            "Train RF (0.9999999999999856, 0.0)\n",
            "Test RF (0.6889907951987809, 0.0)\n",
            "actual number in train 380 851 53\n",
            "actual number in test 126 284 18\n"
          ]
        },
        {
          "output_type": "stream",
          "name": "stderr",
          "text": [
            "\r 50%|█████     | 2/4 [01:16<01:16, 38.46s/it]"
          ]
        },
        {
          "output_type": "stream",
          "name": "stdout",
          "text": [
            "For fold  1\n",
            "Train SpearmanrResult(correlation=0.7529325229904958, pvalue=0.0)\n",
            "Test SpearmanrResult(correlation=0.6779916312174727, pvalue=0.0)\n",
            "Train (0.7115708990404643, 0.0)\n",
            "Test (0.6237621698573838, 0.0)\n",
            "Train RF SpearmanrResult(correlation=1.0, pvalue=0.0)\n",
            "Test RF SpearmanrResult(correlation=0.7682164520679581, pvalue=0.0)\n",
            "Train RF (1.0, 0.0)\n",
            "Test RF (0.7116565788052028, 0.0)\n",
            "actual number in train 378 851 54\n",
            "actual number in test 128 284 17\n"
          ]
        },
        {
          "output_type": "stream",
          "name": "stderr",
          "text": [
            "\r 75%|███████▌  | 3/4 [01:54<00:38, 38.29s/it]"
          ]
        },
        {
          "output_type": "stream",
          "name": "stdout",
          "text": [
            "For fold  2\n",
            "Train SpearmanrResult(correlation=0.722452968922362, pvalue=0.0)\n",
            "Test SpearmanrResult(correlation=0.7191320926502177, pvalue=0.0)\n",
            "Train (0.6761558397001135, 0.0)\n",
            "Test (0.6671612270596656, 0.0)\n",
            "Train RF SpearmanrResult(correlation=1.0, pvalue=0.0)\n",
            "Test RF SpearmanrResult(correlation=0.8098299410514916, pvalue=0.0)\n",
            "Train RF (1.0, 0.0)\n",
            "Test RF (0.759257125482157, 0.0)\n",
            "actual number in train 379 852 53\n",
            "actual number in test 127 283 18\n"
          ]
        },
        {
          "output_type": "stream",
          "name": "stderr",
          "text": [
            "\r100%|██████████| 4/4 [02:33<00:00, 38.39s/it]"
          ]
        },
        {
          "output_type": "stream",
          "name": "stdout",
          "text": [
            "For fold  3\n",
            "Train SpearmanrResult(correlation=0.7465608950774011, pvalue=0.0)\n",
            "Test SpearmanrResult(correlation=0.7710692805806264, pvalue=0.0)\n",
            "Train (0.7003612987115346, 0.0)\n",
            "Test (0.7199913891980201, 0.0)\n",
            "Train RF SpearmanrResult(correlation=1.0, pvalue=0.0)\n",
            "Test RF SpearmanrResult(correlation=0.7960738267367903, pvalue=0.0)\n",
            "Train RF (0.9999999999999873, 0.0)\n",
            "Test RF (0.7375071751738764, 0.0)\n"
          ]
        },
        {
          "output_type": "stream",
          "name": "stderr",
          "text": [
            "\r100%|██████████| 4/4 [02:33<00:00, 38.28s/it]\n"
          ]
        },
        {
          "output_type": "stream",
          "name": "stdout",
          "text": [
            "Test overall SpearmanrResult(correlation=0.7090088286385078, pvalue=0.0)\n",
            "Test overall (0.6562123694204105, 0.0)\n",
            "Test overall RF SpearmanrResult(correlation=0.7793431603852324, pvalue=0.0)\n",
            "Test overall RF (0.7224329187741307, 0.0)\n"
          ]
        }
      ]
    },
    {
      "cell_type": "code",
      "source": [
        "# if conlayer is not added change padding to True\n",
        "df_GNN_score_source, df_RF_score_source= run_exp(hetero_graph, df_source, df_news, df_user,'source', models.RGCN2_combine_losses, add_layer=False, baseline=False)"
      ],
      "metadata": {
        "id": "ENVG8_ugYKcx",
        "colab": {
          "base_uri": "https://localhost:8080/",
          "height": 868
        },
        "outputId": "705c5172-9de0-489a-d259-b178a8789304"
      },
      "execution_count": null,
      "outputs": [
        {
          "output_type": "display_data",
          "data": {
            "text/plain": [
              "<IPython.core.display.HTML object>"
            ],
            "text/html": [
              "\n",
              "  <style>\n",
              "    pre {\n",
              "      white-space: pre-wrap;\n",
              "    }\n",
              "  </style>\n",
              "  "
            ]
          },
          "metadata": {}
        },
        {
          "output_type": "stream",
          "name": "stderr",
          "text": [
            "\r  0%|          | 0/4 [00:00<?, ?it/s]"
          ]
        },
        {
          "output_type": "stream",
          "name": "stdout",
          "text": [
            "actual number in train 381 851 53\n",
            "actual number in test 125 284 18\n"
          ]
        },
        {
          "output_type": "stream",
          "name": "stderr",
          "text": [
            "\r 25%|██▌       | 1/4 [00:20<01:01, 20.35s/it]"
          ]
        },
        {
          "output_type": "stream",
          "name": "stdout",
          "text": [
            "For fold  0\n",
            "Train SpearmanrResult(correlation=0.915146312471668, pvalue=0.0)\n",
            "Test SpearmanrResult(correlation=0.5983536784176596, pvalue=1.6685944243023892e-88)\n",
            "Train (0.9203610293984033, 0.0)\n",
            "Test (0.6119534470124726, 1.4053041242786732e-93)\n",
            "Train RF SpearmanrResult(correlation=1.0, pvalue=0.0)\n",
            "Test RF SpearmanrResult(correlation=0.6565310332996657, pvalue=4.379151160827349e-112)\n",
            "Train RF (0.9999999999999986, 0.0)\n",
            "Test RF (0.6694709125014785, 4.59105217361328e-118)\n",
            "actual number in train 380 851 53\n",
            "actual number in test 126 284 18\n"
          ]
        },
        {
          "output_type": "stream",
          "name": "stderr",
          "text": [
            "\r 50%|█████     | 2/4 [00:40<00:40, 20.39s/it]"
          ]
        },
        {
          "output_type": "stream",
          "name": "stdout",
          "text": [
            "For fold  1\n",
            "Train SpearmanrResult(correlation=0.861498236305609, pvalue=0.0)\n",
            "Test SpearmanrResult(correlation=0.8468216155767944, pvalue=1.8865643266154333e-248)\n",
            "Train (0.8641889288506653, 0.0)\n",
            "Test (0.8208214035293877, 1.2479913413586281e-220)\n",
            "Train RF SpearmanrResult(correlation=1.0, pvalue=0.0)\n",
            "Test RF SpearmanrResult(correlation=0.9093304955004751, pvalue=0.0)\n",
            "Train RF (0.9999999999999989, 0.0)\n",
            "Test RF (0.8928064542556872, 2.75871154e-313)\n",
            "actual number in train 378 851 54\n",
            "actual number in test 128 284 17\n"
          ]
        },
        {
          "output_type": "stream",
          "name": "stderr",
          "text": [
            "\r 75%|███████▌  | 3/4 [01:01<00:20, 20.42s/it]"
          ]
        },
        {
          "output_type": "stream",
          "name": "stdout",
          "text": [
            "For fold  2\n",
            "Train SpearmanrResult(correlation=0.8723472007081186, pvalue=0.0)\n",
            "Test SpearmanrResult(correlation=0.8138906702741059, pvalue=3.627361978670711e-202)\n",
            "Train (0.8860643384333327, 0.0)\n",
            "Test (0.8290336765735398, 2.850323038718969e-216)\n",
            "Train RF SpearmanrResult(correlation=1.0, pvalue=0.0)\n",
            "Test RF SpearmanrResult(correlation=0.8372372801202077, pvalue=1.6592335208707603e-224)\n",
            "Train RF (1.0, 0.0)\n",
            "Test RF (0.8433917969908942, 5.427653591352418e-231)\n",
            "actual number in train 379 852 53\n",
            "actual number in test 127 283 18\n"
          ]
        },
        {
          "output_type": "stream",
          "name": "stderr",
          "text": [
            "100%|██████████| 4/4 [01:21<00:00, 20.43s/it]"
          ]
        },
        {
          "output_type": "stream",
          "name": "stdout",
          "text": [
            "For fold  3\n",
            "Train SpearmanrResult(correlation=0.8957987032576421, pvalue=0.0)\n",
            "Test SpearmanrResult(correlation=0.5419438346044276, pvalue=7.680087428411145e-70)\n",
            "Train (0.8989435459229425, 0.0)\n",
            "Test (0.5801170748501133, 4.5369894546648673e-82)\n",
            "Train RF SpearmanrResult(correlation=1.0, pvalue=0.0)\n",
            "Test RF SpearmanrResult(correlation=0.6244351554813555, pvalue=1.85287060276398e-98)\n",
            "Train RF (0.9999999999999982, 0.0)\n",
            "Test RF (0.6638158571751495, 2.050964761441322e-115)\n",
            "Test overall SpearmanrResult(correlation=0.6917407347163648, pvalue=0.0)\n",
            "Test overall (0.700412903797793, 0.0)\n",
            "Test overall RF SpearmanrResult(correlation=0.7410750612300299, pvalue=0.0)\n",
            "Test overall RF (0.7560103503814847, 0.0)\n"
          ]
        },
        {
          "output_type": "stream",
          "name": "stderr",
          "text": [
            "\n"
          ]
        }
      ]
    },
    {
      "cell_type": "code",
      "source": [
        "df_GNN_score_news.T"
      ],
      "metadata": {
        "id": "DbS-PLprReSw",
        "colab": {
          "base_uri": "https://localhost:8080/",
          "height": 206
        },
        "outputId": "ec756864-f56f-4e3f-d0bf-bc2264eaef47"
      },
      "execution_count": null,
      "outputs": [
        {
          "output_type": "display_data",
          "data": {
            "text/plain": [
              "<IPython.core.display.HTML object>"
            ],
            "text/html": [
              "\n",
              "  <style>\n",
              "    pre {\n",
              "      white-space: pre-wrap;\n",
              "    }\n",
              "  </style>\n",
              "  "
            ]
          },
          "metadata": {}
        },
        {
          "output_type": "execute_result",
          "data": {
            "text/plain": [
              "              f1-score  precision    recall     support\n",
              "0             0.848801   0.861253  0.853099   51.500000\n",
              "1             0.900552   0.907979  0.912279   75.000000\n",
              "accuracy      0.888759   0.888759  0.888759    0.888759\n",
              "macro avg     0.874676   0.884616  0.882689  126.500000\n",
              "weighted avg  0.879777   0.888951  0.888759  126.500000"
            ],
            "text/html": [
              "\n",
              "  <div id=\"df-be89b054-a6be-45a4-980c-a2b97d0fa11f\">\n",
              "    <div class=\"colab-df-container\">\n",
              "      <div>\n",
              "<style scoped>\n",
              "    .dataframe tbody tr th:only-of-type {\n",
              "        vertical-align: middle;\n",
              "    }\n",
              "\n",
              "    .dataframe tbody tr th {\n",
              "        vertical-align: top;\n",
              "    }\n",
              "\n",
              "    .dataframe thead th {\n",
              "        text-align: right;\n",
              "    }\n",
              "</style>\n",
              "<table border=\"1\" class=\"dataframe\">\n",
              "  <thead>\n",
              "    <tr style=\"text-align: right;\">\n",
              "      <th></th>\n",
              "      <th>f1-score</th>\n",
              "      <th>precision</th>\n",
              "      <th>recall</th>\n",
              "      <th>support</th>\n",
              "    </tr>\n",
              "  </thead>\n",
              "  <tbody>\n",
              "    <tr>\n",
              "      <th>0</th>\n",
              "      <td>0.848801</td>\n",
              "      <td>0.861253</td>\n",
              "      <td>0.853099</td>\n",
              "      <td>51.500000</td>\n",
              "    </tr>\n",
              "    <tr>\n",
              "      <th>1</th>\n",
              "      <td>0.900552</td>\n",
              "      <td>0.907979</td>\n",
              "      <td>0.912279</td>\n",
              "      <td>75.000000</td>\n",
              "    </tr>\n",
              "    <tr>\n",
              "      <th>accuracy</th>\n",
              "      <td>0.888759</td>\n",
              "      <td>0.888759</td>\n",
              "      <td>0.888759</td>\n",
              "      <td>0.888759</td>\n",
              "    </tr>\n",
              "    <tr>\n",
              "      <th>macro avg</th>\n",
              "      <td>0.874676</td>\n",
              "      <td>0.884616</td>\n",
              "      <td>0.882689</td>\n",
              "      <td>126.500000</td>\n",
              "    </tr>\n",
              "    <tr>\n",
              "      <th>weighted avg</th>\n",
              "      <td>0.879777</td>\n",
              "      <td>0.888951</td>\n",
              "      <td>0.888759</td>\n",
              "      <td>126.500000</td>\n",
              "    </tr>\n",
              "  </tbody>\n",
              "</table>\n",
              "</div>\n",
              "      <button class=\"colab-df-convert\" onclick=\"convertToInteractive('df-be89b054-a6be-45a4-980c-a2b97d0fa11f')\"\n",
              "              title=\"Convert this dataframe to an interactive table.\"\n",
              "              style=\"display:none;\">\n",
              "        \n",
              "  <svg xmlns=\"http://www.w3.org/2000/svg\" height=\"24px\"viewBox=\"0 0 24 24\"\n",
              "       width=\"24px\">\n",
              "    <path d=\"M0 0h24v24H0V0z\" fill=\"none\"/>\n",
              "    <path d=\"M18.56 5.44l.94 2.06.94-2.06 2.06-.94-2.06-.94-.94-2.06-.94 2.06-2.06.94zm-11 1L8.5 8.5l.94-2.06 2.06-.94-2.06-.94L8.5 2.5l-.94 2.06-2.06.94zm10 10l.94 2.06.94-2.06 2.06-.94-2.06-.94-.94-2.06-.94 2.06-2.06.94z\"/><path d=\"M17.41 7.96l-1.37-1.37c-.4-.4-.92-.59-1.43-.59-.52 0-1.04.2-1.43.59L10.3 9.45l-7.72 7.72c-.78.78-.78 2.05 0 2.83L4 21.41c.39.39.9.59 1.41.59.51 0 1.02-.2 1.41-.59l7.78-7.78 2.81-2.81c.8-.78.8-2.07 0-2.86zM5.41 20L4 18.59l7.72-7.72 1.47 1.35L5.41 20z\"/>\n",
              "  </svg>\n",
              "      </button>\n",
              "      \n",
              "  <style>\n",
              "    .colab-df-container {\n",
              "      display:flex;\n",
              "      flex-wrap:wrap;\n",
              "      gap: 12px;\n",
              "    }\n",
              "\n",
              "    .colab-df-convert {\n",
              "      background-color: #E8F0FE;\n",
              "      border: none;\n",
              "      border-radius: 50%;\n",
              "      cursor: pointer;\n",
              "      display: none;\n",
              "      fill: #1967D2;\n",
              "      height: 32px;\n",
              "      padding: 0 0 0 0;\n",
              "      width: 32px;\n",
              "    }\n",
              "\n",
              "    .colab-df-convert:hover {\n",
              "      background-color: #E2EBFA;\n",
              "      box-shadow: 0px 1px 2px rgba(60, 64, 67, 0.3), 0px 1px 3px 1px rgba(60, 64, 67, 0.15);\n",
              "      fill: #174EA6;\n",
              "    }\n",
              "\n",
              "    [theme=dark] .colab-df-convert {\n",
              "      background-color: #3B4455;\n",
              "      fill: #D2E3FC;\n",
              "    }\n",
              "\n",
              "    [theme=dark] .colab-df-convert:hover {\n",
              "      background-color: #434B5C;\n",
              "      box-shadow: 0px 1px 3px 1px rgba(0, 0, 0, 0.15);\n",
              "      filter: drop-shadow(0px 1px 2px rgba(0, 0, 0, 0.3));\n",
              "      fill: #FFFFFF;\n",
              "    }\n",
              "  </style>\n",
              "\n",
              "      <script>\n",
              "        const buttonEl =\n",
              "          document.querySelector('#df-be89b054-a6be-45a4-980c-a2b97d0fa11f button.colab-df-convert');\n",
              "        buttonEl.style.display =\n",
              "          google.colab.kernel.accessAllowed ? 'block' : 'none';\n",
              "\n",
              "        async function convertToInteractive(key) {\n",
              "          const element = document.querySelector('#df-be89b054-a6be-45a4-980c-a2b97d0fa11f');\n",
              "          const dataTable =\n",
              "            await google.colab.kernel.invokeFunction('convertToInteractive',\n",
              "                                                     [key], {});\n",
              "          if (!dataTable) return;\n",
              "\n",
              "          const docLinkHtml = 'Like what you see? Visit the ' +\n",
              "            '<a target=\"_blank\" href=https://colab.research.google.com/notebooks/data_table.ipynb>data table notebook</a>'\n",
              "            + ' to learn more about interactive tables.';\n",
              "          element.innerHTML = '';\n",
              "          dataTable['output_type'] = 'display_data';\n",
              "          await google.colab.output.renderOutput(dataTable, element);\n",
              "          const docLink = document.createElement('div');\n",
              "          docLink.innerHTML = docLinkHtml;\n",
              "          element.appendChild(docLink);\n",
              "        }\n",
              "      </script>\n",
              "    </div>\n",
              "  </div>\n",
              "  "
            ]
          },
          "metadata": {},
          "execution_count": 41
        }
      ]
    },
    {
      "cell_type": "code",
      "source": [
        "df_RF_score_news.T"
      ],
      "metadata": {
        "id": "1_q3DhBSRgeb",
        "colab": {
          "base_uri": "https://localhost:8080/",
          "height": 206
        },
        "outputId": "2b8247af-d60a-4af5-c6e4-c90d8282dae3"
      },
      "execution_count": null,
      "outputs": [
        {
          "output_type": "display_data",
          "data": {
            "text/plain": [
              "<IPython.core.display.HTML object>"
            ],
            "text/html": [
              "\n",
              "  <style>\n",
              "    pre {\n",
              "      white-space: pre-wrap;\n",
              "    }\n",
              "  </style>\n",
              "  "
            ]
          },
          "metadata": {}
        },
        {
          "output_type": "execute_result",
          "data": {
            "text/plain": [
              "              f1-score  precision    recall    support\n",
              "0             0.905340   0.903149  0.909073   51.50000\n",
              "1             0.934797   0.938305  0.932013   75.00000\n",
              "accuracy      0.922980   0.922980  0.922980    0.92298\n",
              "macro avg     0.920069   0.920727  0.920543  126.50000\n",
              "weighted avg  0.922904   0.923880  0.922980  126.50000"
            ],
            "text/html": [
              "\n",
              "  <div id=\"df-46ab8802-cc2f-4593-be1a-646207f2096f\">\n",
              "    <div class=\"colab-df-container\">\n",
              "      <div>\n",
              "<style scoped>\n",
              "    .dataframe tbody tr th:only-of-type {\n",
              "        vertical-align: middle;\n",
              "    }\n",
              "\n",
              "    .dataframe tbody tr th {\n",
              "        vertical-align: top;\n",
              "    }\n",
              "\n",
              "    .dataframe thead th {\n",
              "        text-align: right;\n",
              "    }\n",
              "</style>\n",
              "<table border=\"1\" class=\"dataframe\">\n",
              "  <thead>\n",
              "    <tr style=\"text-align: right;\">\n",
              "      <th></th>\n",
              "      <th>f1-score</th>\n",
              "      <th>precision</th>\n",
              "      <th>recall</th>\n",
              "      <th>support</th>\n",
              "    </tr>\n",
              "  </thead>\n",
              "  <tbody>\n",
              "    <tr>\n",
              "      <th>0</th>\n",
              "      <td>0.905340</td>\n",
              "      <td>0.903149</td>\n",
              "      <td>0.909073</td>\n",
              "      <td>51.50000</td>\n",
              "    </tr>\n",
              "    <tr>\n",
              "      <th>1</th>\n",
              "      <td>0.934797</td>\n",
              "      <td>0.938305</td>\n",
              "      <td>0.932013</td>\n",
              "      <td>75.00000</td>\n",
              "    </tr>\n",
              "    <tr>\n",
              "      <th>accuracy</th>\n",
              "      <td>0.922980</td>\n",
              "      <td>0.922980</td>\n",
              "      <td>0.922980</td>\n",
              "      <td>0.92298</td>\n",
              "    </tr>\n",
              "    <tr>\n",
              "      <th>macro avg</th>\n",
              "      <td>0.920069</td>\n",
              "      <td>0.920727</td>\n",
              "      <td>0.920543</td>\n",
              "      <td>126.50000</td>\n",
              "    </tr>\n",
              "    <tr>\n",
              "      <th>weighted avg</th>\n",
              "      <td>0.922904</td>\n",
              "      <td>0.923880</td>\n",
              "      <td>0.922980</td>\n",
              "      <td>126.50000</td>\n",
              "    </tr>\n",
              "  </tbody>\n",
              "</table>\n",
              "</div>\n",
              "      <button class=\"colab-df-convert\" onclick=\"convertToInteractive('df-46ab8802-cc2f-4593-be1a-646207f2096f')\"\n",
              "              title=\"Convert this dataframe to an interactive table.\"\n",
              "              style=\"display:none;\">\n",
              "        \n",
              "  <svg xmlns=\"http://www.w3.org/2000/svg\" height=\"24px\"viewBox=\"0 0 24 24\"\n",
              "       width=\"24px\">\n",
              "    <path d=\"M0 0h24v24H0V0z\" fill=\"none\"/>\n",
              "    <path d=\"M18.56 5.44l.94 2.06.94-2.06 2.06-.94-2.06-.94-.94-2.06-.94 2.06-2.06.94zm-11 1L8.5 8.5l.94-2.06 2.06-.94-2.06-.94L8.5 2.5l-.94 2.06-2.06.94zm10 10l.94 2.06.94-2.06 2.06-.94-2.06-.94-.94-2.06-.94 2.06-2.06.94z\"/><path d=\"M17.41 7.96l-1.37-1.37c-.4-.4-.92-.59-1.43-.59-.52 0-1.04.2-1.43.59L10.3 9.45l-7.72 7.72c-.78.78-.78 2.05 0 2.83L4 21.41c.39.39.9.59 1.41.59.51 0 1.02-.2 1.41-.59l7.78-7.78 2.81-2.81c.8-.78.8-2.07 0-2.86zM5.41 20L4 18.59l7.72-7.72 1.47 1.35L5.41 20z\"/>\n",
              "  </svg>\n",
              "      </button>\n",
              "      \n",
              "  <style>\n",
              "    .colab-df-container {\n",
              "      display:flex;\n",
              "      flex-wrap:wrap;\n",
              "      gap: 12px;\n",
              "    }\n",
              "\n",
              "    .colab-df-convert {\n",
              "      background-color: #E8F0FE;\n",
              "      border: none;\n",
              "      border-radius: 50%;\n",
              "      cursor: pointer;\n",
              "      display: none;\n",
              "      fill: #1967D2;\n",
              "      height: 32px;\n",
              "      padding: 0 0 0 0;\n",
              "      width: 32px;\n",
              "    }\n",
              "\n",
              "    .colab-df-convert:hover {\n",
              "      background-color: #E2EBFA;\n",
              "      box-shadow: 0px 1px 2px rgba(60, 64, 67, 0.3), 0px 1px 3px 1px rgba(60, 64, 67, 0.15);\n",
              "      fill: #174EA6;\n",
              "    }\n",
              "\n",
              "    [theme=dark] .colab-df-convert {\n",
              "      background-color: #3B4455;\n",
              "      fill: #D2E3FC;\n",
              "    }\n",
              "\n",
              "    [theme=dark] .colab-df-convert:hover {\n",
              "      background-color: #434B5C;\n",
              "      box-shadow: 0px 1px 3px 1px rgba(0, 0, 0, 0.15);\n",
              "      filter: drop-shadow(0px 1px 2px rgba(0, 0, 0, 0.3));\n",
              "      fill: #FFFFFF;\n",
              "    }\n",
              "  </style>\n",
              "\n",
              "      <script>\n",
              "        const buttonEl =\n",
              "          document.querySelector('#df-46ab8802-cc2f-4593-be1a-646207f2096f button.colab-df-convert');\n",
              "        buttonEl.style.display =\n",
              "          google.colab.kernel.accessAllowed ? 'block' : 'none';\n",
              "\n",
              "        async function convertToInteractive(key) {\n",
              "          const element = document.querySelector('#df-46ab8802-cc2f-4593-be1a-646207f2096f');\n",
              "          const dataTable =\n",
              "            await google.colab.kernel.invokeFunction('convertToInteractive',\n",
              "                                                     [key], {});\n",
              "          if (!dataTable) return;\n",
              "\n",
              "          const docLinkHtml = 'Like what you see? Visit the ' +\n",
              "            '<a target=\"_blank\" href=https://colab.research.google.com/notebooks/data_table.ipynb>data table notebook</a>'\n",
              "            + ' to learn more about interactive tables.';\n",
              "          element.innerHTML = '';\n",
              "          dataTable['output_type'] = 'display_data';\n",
              "          await google.colab.output.renderOutput(dataTable, element);\n",
              "          const docLink = document.createElement('div');\n",
              "          docLink.innerHTML = docLinkHtml;\n",
              "          element.appendChild(docLink);\n",
              "        }\n",
              "      </script>\n",
              "    </div>\n",
              "  </div>\n",
              "  "
            ]
          },
          "metadata": {},
          "execution_count": 42
        }
      ]
    },
    {
      "cell_type": "code",
      "source": [
        "df_GNN_score_user.T"
      ],
      "metadata": {
        "id": "caOiM9ADfSSE",
        "colab": {
          "base_uri": "https://localhost:8080/",
          "height": 238
        },
        "outputId": "254ef838-610e-4df9-a7be-93f0630b6045"
      },
      "execution_count": null,
      "outputs": [
        {
          "output_type": "display_data",
          "data": {
            "text/plain": [
              "<IPython.core.display.HTML object>"
            ],
            "text/html": [
              "\n",
              "  <style>\n",
              "    pre {\n",
              "      white-space: pre-wrap;\n",
              "    }\n",
              "  </style>\n",
              "  "
            ]
          },
          "metadata": {}
        },
        {
          "output_type": "execute_result",
          "data": {
            "text/plain": [
              "              f1-score  precision    recall     support\n",
              "0             0.851252   0.877577  0.859816   96.250000\n",
              "1             0.926948   0.903532  0.961511  164.250000\n",
              "2             0.340087   0.388703  0.323507   23.250000\n",
              "accuracy      0.874345   0.874345  0.874345    0.874345\n",
              "macro avg     0.706096   0.723271  0.714945  283.750000\n",
              "weighted avg  0.853288   0.853030  0.874345  283.750000"
            ],
            "text/html": [
              "\n",
              "  <div id=\"df-46010140-cdd9-4032-a117-d64af7ab7d66\">\n",
              "    <div class=\"colab-df-container\">\n",
              "      <div>\n",
              "<style scoped>\n",
              "    .dataframe tbody tr th:only-of-type {\n",
              "        vertical-align: middle;\n",
              "    }\n",
              "\n",
              "    .dataframe tbody tr th {\n",
              "        vertical-align: top;\n",
              "    }\n",
              "\n",
              "    .dataframe thead th {\n",
              "        text-align: right;\n",
              "    }\n",
              "</style>\n",
              "<table border=\"1\" class=\"dataframe\">\n",
              "  <thead>\n",
              "    <tr style=\"text-align: right;\">\n",
              "      <th></th>\n",
              "      <th>f1-score</th>\n",
              "      <th>precision</th>\n",
              "      <th>recall</th>\n",
              "      <th>support</th>\n",
              "    </tr>\n",
              "  </thead>\n",
              "  <tbody>\n",
              "    <tr>\n",
              "      <th>0</th>\n",
              "      <td>0.851252</td>\n",
              "      <td>0.877577</td>\n",
              "      <td>0.859816</td>\n",
              "      <td>96.250000</td>\n",
              "    </tr>\n",
              "    <tr>\n",
              "      <th>1</th>\n",
              "      <td>0.926948</td>\n",
              "      <td>0.903532</td>\n",
              "      <td>0.961511</td>\n",
              "      <td>164.250000</td>\n",
              "    </tr>\n",
              "    <tr>\n",
              "      <th>2</th>\n",
              "      <td>0.340087</td>\n",
              "      <td>0.388703</td>\n",
              "      <td>0.323507</td>\n",
              "      <td>23.250000</td>\n",
              "    </tr>\n",
              "    <tr>\n",
              "      <th>accuracy</th>\n",
              "      <td>0.874345</td>\n",
              "      <td>0.874345</td>\n",
              "      <td>0.874345</td>\n",
              "      <td>0.874345</td>\n",
              "    </tr>\n",
              "    <tr>\n",
              "      <th>macro avg</th>\n",
              "      <td>0.706096</td>\n",
              "      <td>0.723271</td>\n",
              "      <td>0.714945</td>\n",
              "      <td>283.750000</td>\n",
              "    </tr>\n",
              "    <tr>\n",
              "      <th>weighted avg</th>\n",
              "      <td>0.853288</td>\n",
              "      <td>0.853030</td>\n",
              "      <td>0.874345</td>\n",
              "      <td>283.750000</td>\n",
              "    </tr>\n",
              "  </tbody>\n",
              "</table>\n",
              "</div>\n",
              "      <button class=\"colab-df-convert\" onclick=\"convertToInteractive('df-46010140-cdd9-4032-a117-d64af7ab7d66')\"\n",
              "              title=\"Convert this dataframe to an interactive table.\"\n",
              "              style=\"display:none;\">\n",
              "        \n",
              "  <svg xmlns=\"http://www.w3.org/2000/svg\" height=\"24px\"viewBox=\"0 0 24 24\"\n",
              "       width=\"24px\">\n",
              "    <path d=\"M0 0h24v24H0V0z\" fill=\"none\"/>\n",
              "    <path d=\"M18.56 5.44l.94 2.06.94-2.06 2.06-.94-2.06-.94-.94-2.06-.94 2.06-2.06.94zm-11 1L8.5 8.5l.94-2.06 2.06-.94-2.06-.94L8.5 2.5l-.94 2.06-2.06.94zm10 10l.94 2.06.94-2.06 2.06-.94-2.06-.94-.94-2.06-.94 2.06-2.06.94z\"/><path d=\"M17.41 7.96l-1.37-1.37c-.4-.4-.92-.59-1.43-.59-.52 0-1.04.2-1.43.59L10.3 9.45l-7.72 7.72c-.78.78-.78 2.05 0 2.83L4 21.41c.39.39.9.59 1.41.59.51 0 1.02-.2 1.41-.59l7.78-7.78 2.81-2.81c.8-.78.8-2.07 0-2.86zM5.41 20L4 18.59l7.72-7.72 1.47 1.35L5.41 20z\"/>\n",
              "  </svg>\n",
              "      </button>\n",
              "      \n",
              "  <style>\n",
              "    .colab-df-container {\n",
              "      display:flex;\n",
              "      flex-wrap:wrap;\n",
              "      gap: 12px;\n",
              "    }\n",
              "\n",
              "    .colab-df-convert {\n",
              "      background-color: #E8F0FE;\n",
              "      border: none;\n",
              "      border-radius: 50%;\n",
              "      cursor: pointer;\n",
              "      display: none;\n",
              "      fill: #1967D2;\n",
              "      height: 32px;\n",
              "      padding: 0 0 0 0;\n",
              "      width: 32px;\n",
              "    }\n",
              "\n",
              "    .colab-df-convert:hover {\n",
              "      background-color: #E2EBFA;\n",
              "      box-shadow: 0px 1px 2px rgba(60, 64, 67, 0.3), 0px 1px 3px 1px rgba(60, 64, 67, 0.15);\n",
              "      fill: #174EA6;\n",
              "    }\n",
              "\n",
              "    [theme=dark] .colab-df-convert {\n",
              "      background-color: #3B4455;\n",
              "      fill: #D2E3FC;\n",
              "    }\n",
              "\n",
              "    [theme=dark] .colab-df-convert:hover {\n",
              "      background-color: #434B5C;\n",
              "      box-shadow: 0px 1px 3px 1px rgba(0, 0, 0, 0.15);\n",
              "      filter: drop-shadow(0px 1px 2px rgba(0, 0, 0, 0.3));\n",
              "      fill: #FFFFFF;\n",
              "    }\n",
              "  </style>\n",
              "\n",
              "      <script>\n",
              "        const buttonEl =\n",
              "          document.querySelector('#df-46010140-cdd9-4032-a117-d64af7ab7d66 button.colab-df-convert');\n",
              "        buttonEl.style.display =\n",
              "          google.colab.kernel.accessAllowed ? 'block' : 'none';\n",
              "\n",
              "        async function convertToInteractive(key) {\n",
              "          const element = document.querySelector('#df-46010140-cdd9-4032-a117-d64af7ab7d66');\n",
              "          const dataTable =\n",
              "            await google.colab.kernel.invokeFunction('convertToInteractive',\n",
              "                                                     [key], {});\n",
              "          if (!dataTable) return;\n",
              "\n",
              "          const docLinkHtml = 'Like what you see? Visit the ' +\n",
              "            '<a target=\"_blank\" href=https://colab.research.google.com/notebooks/data_table.ipynb>data table notebook</a>'\n",
              "            + ' to learn more about interactive tables.';\n",
              "          element.innerHTML = '';\n",
              "          dataTable['output_type'] = 'display_data';\n",
              "          await google.colab.output.renderOutput(dataTable, element);\n",
              "          const docLink = document.createElement('div');\n",
              "          docLink.innerHTML = docLinkHtml;\n",
              "          element.appendChild(docLink);\n",
              "        }\n",
              "      </script>\n",
              "    </div>\n",
              "  </div>\n",
              "  "
            ]
          },
          "metadata": {},
          "execution_count": 43
        }
      ]
    },
    {
      "cell_type": "code",
      "source": [
        "df_RF_score_user.T"
      ],
      "metadata": {
        "id": "GDbtHfJdj9c8",
        "colab": {
          "base_uri": "https://localhost:8080/",
          "height": 238
        },
        "outputId": "34b56e89-e37e-4d6a-c5dd-eeb48afd9601"
      },
      "execution_count": null,
      "outputs": [
        {
          "output_type": "display_data",
          "data": {
            "text/plain": [
              "<IPython.core.display.HTML object>"
            ],
            "text/html": [
              "\n",
              "  <style>\n",
              "    pre {\n",
              "      white-space: pre-wrap;\n",
              "    }\n",
              "  </style>\n",
              "  "
            ]
          },
          "metadata": {}
        },
        {
          "output_type": "execute_result",
          "data": {
            "text/plain": [
              "              f1-score  precision    recall     support\n",
              "0             0.941669   0.929949  0.954495   96.250000\n",
              "1             0.956928   0.947197  0.967420  164.250000\n",
              "2             0.430829   0.520083  0.384583   23.250000\n",
              "accuracy      0.914614   0.914614  0.914614    0.914614\n",
              "macro avg     0.776475   0.799076  0.768833  283.750000\n",
              "weighted avg  0.908500   0.906851  0.914614  283.750000"
            ],
            "text/html": [
              "\n",
              "  <div id=\"df-820e0a7c-0907-4eec-8d43-1339edc29a00\">\n",
              "    <div class=\"colab-df-container\">\n",
              "      <div>\n",
              "<style scoped>\n",
              "    .dataframe tbody tr th:only-of-type {\n",
              "        vertical-align: middle;\n",
              "    }\n",
              "\n",
              "    .dataframe tbody tr th {\n",
              "        vertical-align: top;\n",
              "    }\n",
              "\n",
              "    .dataframe thead th {\n",
              "        text-align: right;\n",
              "    }\n",
              "</style>\n",
              "<table border=\"1\" class=\"dataframe\">\n",
              "  <thead>\n",
              "    <tr style=\"text-align: right;\">\n",
              "      <th></th>\n",
              "      <th>f1-score</th>\n",
              "      <th>precision</th>\n",
              "      <th>recall</th>\n",
              "      <th>support</th>\n",
              "    </tr>\n",
              "  </thead>\n",
              "  <tbody>\n",
              "    <tr>\n",
              "      <th>0</th>\n",
              "      <td>0.941669</td>\n",
              "      <td>0.929949</td>\n",
              "      <td>0.954495</td>\n",
              "      <td>96.250000</td>\n",
              "    </tr>\n",
              "    <tr>\n",
              "      <th>1</th>\n",
              "      <td>0.956928</td>\n",
              "      <td>0.947197</td>\n",
              "      <td>0.967420</td>\n",
              "      <td>164.250000</td>\n",
              "    </tr>\n",
              "    <tr>\n",
              "      <th>2</th>\n",
              "      <td>0.430829</td>\n",
              "      <td>0.520083</td>\n",
              "      <td>0.384583</td>\n",
              "      <td>23.250000</td>\n",
              "    </tr>\n",
              "    <tr>\n",
              "      <th>accuracy</th>\n",
              "      <td>0.914614</td>\n",
              "      <td>0.914614</td>\n",
              "      <td>0.914614</td>\n",
              "      <td>0.914614</td>\n",
              "    </tr>\n",
              "    <tr>\n",
              "      <th>macro avg</th>\n",
              "      <td>0.776475</td>\n",
              "      <td>0.799076</td>\n",
              "      <td>0.768833</td>\n",
              "      <td>283.750000</td>\n",
              "    </tr>\n",
              "    <tr>\n",
              "      <th>weighted avg</th>\n",
              "      <td>0.908500</td>\n",
              "      <td>0.906851</td>\n",
              "      <td>0.914614</td>\n",
              "      <td>283.750000</td>\n",
              "    </tr>\n",
              "  </tbody>\n",
              "</table>\n",
              "</div>\n",
              "      <button class=\"colab-df-convert\" onclick=\"convertToInteractive('df-820e0a7c-0907-4eec-8d43-1339edc29a00')\"\n",
              "              title=\"Convert this dataframe to an interactive table.\"\n",
              "              style=\"display:none;\">\n",
              "        \n",
              "  <svg xmlns=\"http://www.w3.org/2000/svg\" height=\"24px\"viewBox=\"0 0 24 24\"\n",
              "       width=\"24px\">\n",
              "    <path d=\"M0 0h24v24H0V0z\" fill=\"none\"/>\n",
              "    <path d=\"M18.56 5.44l.94 2.06.94-2.06 2.06-.94-2.06-.94-.94-2.06-.94 2.06-2.06.94zm-11 1L8.5 8.5l.94-2.06 2.06-.94-2.06-.94L8.5 2.5l-.94 2.06-2.06.94zm10 10l.94 2.06.94-2.06 2.06-.94-2.06-.94-.94-2.06-.94 2.06-2.06.94z\"/><path d=\"M17.41 7.96l-1.37-1.37c-.4-.4-.92-.59-1.43-.59-.52 0-1.04.2-1.43.59L10.3 9.45l-7.72 7.72c-.78.78-.78 2.05 0 2.83L4 21.41c.39.39.9.59 1.41.59.51 0 1.02-.2 1.41-.59l7.78-7.78 2.81-2.81c.8-.78.8-2.07 0-2.86zM5.41 20L4 18.59l7.72-7.72 1.47 1.35L5.41 20z\"/>\n",
              "  </svg>\n",
              "      </button>\n",
              "      \n",
              "  <style>\n",
              "    .colab-df-container {\n",
              "      display:flex;\n",
              "      flex-wrap:wrap;\n",
              "      gap: 12px;\n",
              "    }\n",
              "\n",
              "    .colab-df-convert {\n",
              "      background-color: #E8F0FE;\n",
              "      border: none;\n",
              "      border-radius: 50%;\n",
              "      cursor: pointer;\n",
              "      display: none;\n",
              "      fill: #1967D2;\n",
              "      height: 32px;\n",
              "      padding: 0 0 0 0;\n",
              "      width: 32px;\n",
              "    }\n",
              "\n",
              "    .colab-df-convert:hover {\n",
              "      background-color: #E2EBFA;\n",
              "      box-shadow: 0px 1px 2px rgba(60, 64, 67, 0.3), 0px 1px 3px 1px rgba(60, 64, 67, 0.15);\n",
              "      fill: #174EA6;\n",
              "    }\n",
              "\n",
              "    [theme=dark] .colab-df-convert {\n",
              "      background-color: #3B4455;\n",
              "      fill: #D2E3FC;\n",
              "    }\n",
              "\n",
              "    [theme=dark] .colab-df-convert:hover {\n",
              "      background-color: #434B5C;\n",
              "      box-shadow: 0px 1px 3px 1px rgba(0, 0, 0, 0.15);\n",
              "      filter: drop-shadow(0px 1px 2px rgba(0, 0, 0, 0.3));\n",
              "      fill: #FFFFFF;\n",
              "    }\n",
              "  </style>\n",
              "\n",
              "      <script>\n",
              "        const buttonEl =\n",
              "          document.querySelector('#df-820e0a7c-0907-4eec-8d43-1339edc29a00 button.colab-df-convert');\n",
              "        buttonEl.style.display =\n",
              "          google.colab.kernel.accessAllowed ? 'block' : 'none';\n",
              "\n",
              "        async function convertToInteractive(key) {\n",
              "          const element = document.querySelector('#df-820e0a7c-0907-4eec-8d43-1339edc29a00');\n",
              "          const dataTable =\n",
              "            await google.colab.kernel.invokeFunction('convertToInteractive',\n",
              "                                                     [key], {});\n",
              "          if (!dataTable) return;\n",
              "\n",
              "          const docLinkHtml = 'Like what you see? Visit the ' +\n",
              "            '<a target=\"_blank\" href=https://colab.research.google.com/notebooks/data_table.ipynb>data table notebook</a>'\n",
              "            + ' to learn more about interactive tables.';\n",
              "          element.innerHTML = '';\n",
              "          dataTable['output_type'] = 'display_data';\n",
              "          await google.colab.output.renderOutput(dataTable, element);\n",
              "          const docLink = document.createElement('div');\n",
              "          docLink.innerHTML = docLinkHtml;\n",
              "          element.appendChild(docLink);\n",
              "        }\n",
              "      </script>\n",
              "    </div>\n",
              "  </div>\n",
              "  "
            ]
          },
          "metadata": {},
          "execution_count": 44
        }
      ]
    },
    {
      "cell_type": "code",
      "source": [
        "df_GNN_score_source.T"
      ],
      "metadata": {
        "id": "wGT6Lp1Oj_Q8",
        "colab": {
          "base_uri": "https://localhost:8080/",
          "height": 363
        },
        "outputId": "c44e8484-9dd5-42c3-82dc-296e1c48461f"
      },
      "execution_count": null,
      "outputs": [
        {
          "output_type": "display_data",
          "data": {
            "text/plain": [
              "<IPython.core.display.HTML object>"
            ],
            "text/html": [
              "\n",
              "  <style>\n",
              "    pre {\n",
              "      white-space: pre-wrap;\n",
              "    }\n",
              "  </style>\n",
              "  "
            ]
          },
          "metadata": {}
        },
        {
          "output_type": "execute_result",
          "data": {
            "text/plain": [
              "              f1-score  precision    recall    support\n",
              "0             0.193152   0.377410  0.150826   2.066116\n",
              "1             0.792657   0.791704  0.856000   4.000000\n",
              "2             0.209333   0.220833  0.277500   2.500000\n",
              "3             0.093846   0.075086  0.154167   2.250000\n",
              "4             0.583151   0.578608  0.664792   6.500000\n",
              "5             0.006000   0.003958  0.012500   1.250000\n",
              "accuracy      0.509755   0.509755  0.509755   0.509755\n",
              "macro avg     0.323129   0.340002  0.367253  17.750000\n",
              "weighted avg  0.478179   0.510295  0.509755  17.750000\n",
              "6             0.000000   0.000000  0.000000   0.000000"
            ],
            "text/html": [
              "\n",
              "  <div id=\"df-1797150b-06fc-4f01-ad16-4376ef3edeb6\">\n",
              "    <div class=\"colab-df-container\">\n",
              "      <div>\n",
              "<style scoped>\n",
              "    .dataframe tbody tr th:only-of-type {\n",
              "        vertical-align: middle;\n",
              "    }\n",
              "\n",
              "    .dataframe tbody tr th {\n",
              "        vertical-align: top;\n",
              "    }\n",
              "\n",
              "    .dataframe thead th {\n",
              "        text-align: right;\n",
              "    }\n",
              "</style>\n",
              "<table border=\"1\" class=\"dataframe\">\n",
              "  <thead>\n",
              "    <tr style=\"text-align: right;\">\n",
              "      <th></th>\n",
              "      <th>f1-score</th>\n",
              "      <th>precision</th>\n",
              "      <th>recall</th>\n",
              "      <th>support</th>\n",
              "    </tr>\n",
              "  </thead>\n",
              "  <tbody>\n",
              "    <tr>\n",
              "      <th>0</th>\n",
              "      <td>0.193152</td>\n",
              "      <td>0.377410</td>\n",
              "      <td>0.150826</td>\n",
              "      <td>2.066116</td>\n",
              "    </tr>\n",
              "    <tr>\n",
              "      <th>1</th>\n",
              "      <td>0.792657</td>\n",
              "      <td>0.791704</td>\n",
              "      <td>0.856000</td>\n",
              "      <td>4.000000</td>\n",
              "    </tr>\n",
              "    <tr>\n",
              "      <th>2</th>\n",
              "      <td>0.209333</td>\n",
              "      <td>0.220833</td>\n",
              "      <td>0.277500</td>\n",
              "      <td>2.500000</td>\n",
              "    </tr>\n",
              "    <tr>\n",
              "      <th>3</th>\n",
              "      <td>0.093846</td>\n",
              "      <td>0.075086</td>\n",
              "      <td>0.154167</td>\n",
              "      <td>2.250000</td>\n",
              "    </tr>\n",
              "    <tr>\n",
              "      <th>4</th>\n",
              "      <td>0.583151</td>\n",
              "      <td>0.578608</td>\n",
              "      <td>0.664792</td>\n",
              "      <td>6.500000</td>\n",
              "    </tr>\n",
              "    <tr>\n",
              "      <th>5</th>\n",
              "      <td>0.006000</td>\n",
              "      <td>0.003958</td>\n",
              "      <td>0.012500</td>\n",
              "      <td>1.250000</td>\n",
              "    </tr>\n",
              "    <tr>\n",
              "      <th>accuracy</th>\n",
              "      <td>0.509755</td>\n",
              "      <td>0.509755</td>\n",
              "      <td>0.509755</td>\n",
              "      <td>0.509755</td>\n",
              "    </tr>\n",
              "    <tr>\n",
              "      <th>macro avg</th>\n",
              "      <td>0.323129</td>\n",
              "      <td>0.340002</td>\n",
              "      <td>0.367253</td>\n",
              "      <td>17.750000</td>\n",
              "    </tr>\n",
              "    <tr>\n",
              "      <th>weighted avg</th>\n",
              "      <td>0.478179</td>\n",
              "      <td>0.510295</td>\n",
              "      <td>0.509755</td>\n",
              "      <td>17.750000</td>\n",
              "    </tr>\n",
              "    <tr>\n",
              "      <th>6</th>\n",
              "      <td>0.000000</td>\n",
              "      <td>0.000000</td>\n",
              "      <td>0.000000</td>\n",
              "      <td>0.000000</td>\n",
              "    </tr>\n",
              "  </tbody>\n",
              "</table>\n",
              "</div>\n",
              "      <button class=\"colab-df-convert\" onclick=\"convertToInteractive('df-1797150b-06fc-4f01-ad16-4376ef3edeb6')\"\n",
              "              title=\"Convert this dataframe to an interactive table.\"\n",
              "              style=\"display:none;\">\n",
              "        \n",
              "  <svg xmlns=\"http://www.w3.org/2000/svg\" height=\"24px\"viewBox=\"0 0 24 24\"\n",
              "       width=\"24px\">\n",
              "    <path d=\"M0 0h24v24H0V0z\" fill=\"none\"/>\n",
              "    <path d=\"M18.56 5.44l.94 2.06.94-2.06 2.06-.94-2.06-.94-.94-2.06-.94 2.06-2.06.94zm-11 1L8.5 8.5l.94-2.06 2.06-.94-2.06-.94L8.5 2.5l-.94 2.06-2.06.94zm10 10l.94 2.06.94-2.06 2.06-.94-2.06-.94-.94-2.06-.94 2.06-2.06.94z\"/><path d=\"M17.41 7.96l-1.37-1.37c-.4-.4-.92-.59-1.43-.59-.52 0-1.04.2-1.43.59L10.3 9.45l-7.72 7.72c-.78.78-.78 2.05 0 2.83L4 21.41c.39.39.9.59 1.41.59.51 0 1.02-.2 1.41-.59l7.78-7.78 2.81-2.81c.8-.78.8-2.07 0-2.86zM5.41 20L4 18.59l7.72-7.72 1.47 1.35L5.41 20z\"/>\n",
              "  </svg>\n",
              "      </button>\n",
              "      \n",
              "  <style>\n",
              "    .colab-df-container {\n",
              "      display:flex;\n",
              "      flex-wrap:wrap;\n",
              "      gap: 12px;\n",
              "    }\n",
              "\n",
              "    .colab-df-convert {\n",
              "      background-color: #E8F0FE;\n",
              "      border: none;\n",
              "      border-radius: 50%;\n",
              "      cursor: pointer;\n",
              "      display: none;\n",
              "      fill: #1967D2;\n",
              "      height: 32px;\n",
              "      padding: 0 0 0 0;\n",
              "      width: 32px;\n",
              "    }\n",
              "\n",
              "    .colab-df-convert:hover {\n",
              "      background-color: #E2EBFA;\n",
              "      box-shadow: 0px 1px 2px rgba(60, 64, 67, 0.3), 0px 1px 3px 1px rgba(60, 64, 67, 0.15);\n",
              "      fill: #174EA6;\n",
              "    }\n",
              "\n",
              "    [theme=dark] .colab-df-convert {\n",
              "      background-color: #3B4455;\n",
              "      fill: #D2E3FC;\n",
              "    }\n",
              "\n",
              "    [theme=dark] .colab-df-convert:hover {\n",
              "      background-color: #434B5C;\n",
              "      box-shadow: 0px 1px 3px 1px rgba(0, 0, 0, 0.15);\n",
              "      filter: drop-shadow(0px 1px 2px rgba(0, 0, 0, 0.3));\n",
              "      fill: #FFFFFF;\n",
              "    }\n",
              "  </style>\n",
              "\n",
              "      <script>\n",
              "        const buttonEl =\n",
              "          document.querySelector('#df-1797150b-06fc-4f01-ad16-4376ef3edeb6 button.colab-df-convert');\n",
              "        buttonEl.style.display =\n",
              "          google.colab.kernel.accessAllowed ? 'block' : 'none';\n",
              "\n",
              "        async function convertToInteractive(key) {\n",
              "          const element = document.querySelector('#df-1797150b-06fc-4f01-ad16-4376ef3edeb6');\n",
              "          const dataTable =\n",
              "            await google.colab.kernel.invokeFunction('convertToInteractive',\n",
              "                                                     [key], {});\n",
              "          if (!dataTable) return;\n",
              "\n",
              "          const docLinkHtml = 'Like what you see? Visit the ' +\n",
              "            '<a target=\"_blank\" href=https://colab.research.google.com/notebooks/data_table.ipynb>data table notebook</a>'\n",
              "            + ' to learn more about interactive tables.';\n",
              "          element.innerHTML = '';\n",
              "          dataTable['output_type'] = 'display_data';\n",
              "          await google.colab.output.renderOutput(dataTable, element);\n",
              "          const docLink = document.createElement('div');\n",
              "          docLink.innerHTML = docLinkHtml;\n",
              "          element.appendChild(docLink);\n",
              "        }\n",
              "      </script>\n",
              "    </div>\n",
              "  </div>\n",
              "  "
            ]
          },
          "metadata": {},
          "execution_count": 45
        }
      ]
    },
    {
      "cell_type": "code",
      "source": [
        "df_RF_score_source.T"
      ],
      "metadata": {
        "id": "4q_HGiPykF6T",
        "colab": {
          "base_uri": "https://localhost:8080/",
          "height": 332
        },
        "outputId": "9d9408cc-3dbe-492b-d4cc-07b1e23d00b4"
      },
      "execution_count": null,
      "outputs": [
        {
          "output_type": "display_data",
          "data": {
            "text/plain": [
              "<IPython.core.display.HTML object>"
            ],
            "text/html": [
              "\n",
              "  <style>\n",
              "    pre {\n",
              "      white-space: pre-wrap;\n",
              "    }\n",
              "  </style>\n",
              "  "
            ]
          },
          "metadata": {}
        },
        {
          "output_type": "execute_result",
          "data": {
            "text/plain": [
              "              f1-score  precision    recall    support\n",
              "0             0.248598   0.383178  0.214953   2.336449\n",
              "1             0.826712   0.811726  0.907500   4.000000\n",
              "2             0.298413   0.317833  0.400417   2.500000\n",
              "3             0.070702   0.054500  0.110000   2.250000\n",
              "4             0.578097   0.570051  0.641458   6.500000\n",
              "5             0.025000   0.025000  0.025000   1.250000\n",
              "accuracy      0.518448   0.518448  0.518448   0.518448\n",
              "macro avg     0.348371   0.357958  0.393785  17.750000\n",
              "weighted avg  0.491482   0.514519  0.518448  17.750000"
            ],
            "text/html": [
              "\n",
              "  <div id=\"df-8e73324d-b29a-48cc-83d1-17d390d71a6a\">\n",
              "    <div class=\"colab-df-container\">\n",
              "      <div>\n",
              "<style scoped>\n",
              "    .dataframe tbody tr th:only-of-type {\n",
              "        vertical-align: middle;\n",
              "    }\n",
              "\n",
              "    .dataframe tbody tr th {\n",
              "        vertical-align: top;\n",
              "    }\n",
              "\n",
              "    .dataframe thead th {\n",
              "        text-align: right;\n",
              "    }\n",
              "</style>\n",
              "<table border=\"1\" class=\"dataframe\">\n",
              "  <thead>\n",
              "    <tr style=\"text-align: right;\">\n",
              "      <th></th>\n",
              "      <th>f1-score</th>\n",
              "      <th>precision</th>\n",
              "      <th>recall</th>\n",
              "      <th>support</th>\n",
              "    </tr>\n",
              "  </thead>\n",
              "  <tbody>\n",
              "    <tr>\n",
              "      <th>0</th>\n",
              "      <td>0.248598</td>\n",
              "      <td>0.383178</td>\n",
              "      <td>0.214953</td>\n",
              "      <td>2.336449</td>\n",
              "    </tr>\n",
              "    <tr>\n",
              "      <th>1</th>\n",
              "      <td>0.826712</td>\n",
              "      <td>0.811726</td>\n",
              "      <td>0.907500</td>\n",
              "      <td>4.000000</td>\n",
              "    </tr>\n",
              "    <tr>\n",
              "      <th>2</th>\n",
              "      <td>0.298413</td>\n",
              "      <td>0.317833</td>\n",
              "      <td>0.400417</td>\n",
              "      <td>2.500000</td>\n",
              "    </tr>\n",
              "    <tr>\n",
              "      <th>3</th>\n",
              "      <td>0.070702</td>\n",
              "      <td>0.054500</td>\n",
              "      <td>0.110000</td>\n",
              "      <td>2.250000</td>\n",
              "    </tr>\n",
              "    <tr>\n",
              "      <th>4</th>\n",
              "      <td>0.578097</td>\n",
              "      <td>0.570051</td>\n",
              "      <td>0.641458</td>\n",
              "      <td>6.500000</td>\n",
              "    </tr>\n",
              "    <tr>\n",
              "      <th>5</th>\n",
              "      <td>0.025000</td>\n",
              "      <td>0.025000</td>\n",
              "      <td>0.025000</td>\n",
              "      <td>1.250000</td>\n",
              "    </tr>\n",
              "    <tr>\n",
              "      <th>accuracy</th>\n",
              "      <td>0.518448</td>\n",
              "      <td>0.518448</td>\n",
              "      <td>0.518448</td>\n",
              "      <td>0.518448</td>\n",
              "    </tr>\n",
              "    <tr>\n",
              "      <th>macro avg</th>\n",
              "      <td>0.348371</td>\n",
              "      <td>0.357958</td>\n",
              "      <td>0.393785</td>\n",
              "      <td>17.750000</td>\n",
              "    </tr>\n",
              "    <tr>\n",
              "      <th>weighted avg</th>\n",
              "      <td>0.491482</td>\n",
              "      <td>0.514519</td>\n",
              "      <td>0.518448</td>\n",
              "      <td>17.750000</td>\n",
              "    </tr>\n",
              "  </tbody>\n",
              "</table>\n",
              "</div>\n",
              "      <button class=\"colab-df-convert\" onclick=\"convertToInteractive('df-8e73324d-b29a-48cc-83d1-17d390d71a6a')\"\n",
              "              title=\"Convert this dataframe to an interactive table.\"\n",
              "              style=\"display:none;\">\n",
              "        \n",
              "  <svg xmlns=\"http://www.w3.org/2000/svg\" height=\"24px\"viewBox=\"0 0 24 24\"\n",
              "       width=\"24px\">\n",
              "    <path d=\"M0 0h24v24H0V0z\" fill=\"none\"/>\n",
              "    <path d=\"M18.56 5.44l.94 2.06.94-2.06 2.06-.94-2.06-.94-.94-2.06-.94 2.06-2.06.94zm-11 1L8.5 8.5l.94-2.06 2.06-.94-2.06-.94L8.5 2.5l-.94 2.06-2.06.94zm10 10l.94 2.06.94-2.06 2.06-.94-2.06-.94-.94-2.06-.94 2.06-2.06.94z\"/><path d=\"M17.41 7.96l-1.37-1.37c-.4-.4-.92-.59-1.43-.59-.52 0-1.04.2-1.43.59L10.3 9.45l-7.72 7.72c-.78.78-.78 2.05 0 2.83L4 21.41c.39.39.9.59 1.41.59.51 0 1.02-.2 1.41-.59l7.78-7.78 2.81-2.81c.8-.78.8-2.07 0-2.86zM5.41 20L4 18.59l7.72-7.72 1.47 1.35L5.41 20z\"/>\n",
              "  </svg>\n",
              "      </button>\n",
              "      \n",
              "  <style>\n",
              "    .colab-df-container {\n",
              "      display:flex;\n",
              "      flex-wrap:wrap;\n",
              "      gap: 12px;\n",
              "    }\n",
              "\n",
              "    .colab-df-convert {\n",
              "      background-color: #E8F0FE;\n",
              "      border: none;\n",
              "      border-radius: 50%;\n",
              "      cursor: pointer;\n",
              "      display: none;\n",
              "      fill: #1967D2;\n",
              "      height: 32px;\n",
              "      padding: 0 0 0 0;\n",
              "      width: 32px;\n",
              "    }\n",
              "\n",
              "    .colab-df-convert:hover {\n",
              "      background-color: #E2EBFA;\n",
              "      box-shadow: 0px 1px 2px rgba(60, 64, 67, 0.3), 0px 1px 3px 1px rgba(60, 64, 67, 0.15);\n",
              "      fill: #174EA6;\n",
              "    }\n",
              "\n",
              "    [theme=dark] .colab-df-convert {\n",
              "      background-color: #3B4455;\n",
              "      fill: #D2E3FC;\n",
              "    }\n",
              "\n",
              "    [theme=dark] .colab-df-convert:hover {\n",
              "      background-color: #434B5C;\n",
              "      box-shadow: 0px 1px 3px 1px rgba(0, 0, 0, 0.15);\n",
              "      filter: drop-shadow(0px 1px 2px rgba(0, 0, 0, 0.3));\n",
              "      fill: #FFFFFF;\n",
              "    }\n",
              "  </style>\n",
              "\n",
              "      <script>\n",
              "        const buttonEl =\n",
              "          document.querySelector('#df-8e73324d-b29a-48cc-83d1-17d390d71a6a button.colab-df-convert');\n",
              "        buttonEl.style.display =\n",
              "          google.colab.kernel.accessAllowed ? 'block' : 'none';\n",
              "\n",
              "        async function convertToInteractive(key) {\n",
              "          const element = document.querySelector('#df-8e73324d-b29a-48cc-83d1-17d390d71a6a');\n",
              "          const dataTable =\n",
              "            await google.colab.kernel.invokeFunction('convertToInteractive',\n",
              "                                                     [key], {});\n",
              "          if (!dataTable) return;\n",
              "\n",
              "          const docLinkHtml = 'Like what you see? Visit the ' +\n",
              "            '<a target=\"_blank\" href=https://colab.research.google.com/notebooks/data_table.ipynb>data table notebook</a>'\n",
              "            + ' to learn more about interactive tables.';\n",
              "          element.innerHTML = '';\n",
              "          dataTable['output_type'] = 'display_data';\n",
              "          await google.colab.output.renderOutput(dataTable, element);\n",
              "          const docLink = document.createElement('div');\n",
              "          docLink.innerHTML = docLinkHtml;\n",
              "          element.appendChild(docLink);\n",
              "        }\n",
              "      </script>\n",
              "    </div>\n",
              "  </div>\n",
              "  "
            ]
          },
          "metadata": {},
          "execution_count": 46
        }
      ]
    },
    {
      "cell_type": "code",
      "source": [
        ""
      ],
      "metadata": {
        "id": "9ii6iUgPkICD"
      },
      "execution_count": null,
      "outputs": []
    }
  ]
}